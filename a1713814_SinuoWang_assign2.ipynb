{
 "cells": [
  {
   "cell_type": "markdown",
   "id": "6730fecf",
   "metadata": {},
   "source": [
    "## Assignment 2\n",
    "### \\<Sinuo Wang> \\<a1713814>"
   ]
  },
  {
   "cell_type": "markdown",
   "id": "3df2aac6",
   "metadata": {},
   "source": [
    "### 1. Reading dataset and pre-processing"
   ]
  },
  {
   "cell_type": "code",
   "execution_count": 1,
   "id": "e967e07b",
   "metadata": {},
   "outputs": [
    {
     "name": "stderr",
     "output_type": "stream",
     "text": [
      "/home/crossing/miniconda3/envs/jointbert/lib/python3.9/site-packages/tqdm/auto.py:22: TqdmWarning: IProgress not found. Please update jupyter and ipywidgets. See https://ipywidgets.readthedocs.io/en/stable/user_install.html\n",
      "  from .autonotebook import tqdm as notebook_tqdm\n",
      "/home/crossing/miniconda3/envs/jointbert/lib/python3.9/site-packages/torch/cuda/__init__.py:83: UserWarning: CUDA initialization: CUDA unknown error - this may be due to an incorrectly set up environment, e.g. changing env variable CUDA_VISIBLE_DEVICES after program start. Setting the available devices to be zero. (Triggered internally at  ../c10/cuda/CUDAFunctions.cpp:109.)\n",
      "  return torch._C._cuda_getDeviceCount() > 0\n"
     ]
    }
   ],
   "source": [
    "import pandas as pd\n",
    "import os.path\n",
    "import spacy\n",
    "import tqdm\n",
    "import pickle\n",
    "import numpy as np\n",
    "import math\n",
    "from numpy import dot\n",
    "from numpy.linalg import norm\n",
    "\n",
    "\n",
    "import warnings\n",
    "warnings.filterwarnings(\"ignore\")\n"
   ]
  },
  {
   "cell_type": "markdown",
   "source": [
    "The original dataset on Kaggle huge, which contains 1056660 samples. To make this runable on my local pc, I randomly sampled 10,000 samples from the original dataset on Kaggle Notebook online, so I don't need to download the whole 20GB.\n",
    " Since I sampled these online, I am going to describe how I sampled the data and what attributes I chose. Here are the detailed steps of how I sampled 10,000 data in Kaggle Notebook:\n",
    "1. use random.sample() to select 25,000 article json path\n",
    "2. read the sampled json get the whole body text, and first 5 bibliographies\n",
    "3. match the paper_id to metadata.csv to get more useful attributes of the articles, including title, authors, and journal\n",
    "4. Data cleaning, including remove samples with missing attributes, non-English, and duplicates.\n",
    "5. Then randomly sampled 10,000 samples from the cleaned data\n",
    "5. save to a csv file called 'sampled_df.csv' and download this sampled dataset to my local PC"
   ],
   "metadata": {
    "collapsed": false
   }
  },
  {
   "cell_type": "code",
   "execution_count": 2,
   "outputs": [
    {
     "name": "stdout",
     "output_type": "stream",
     "text": [
      "number of na: 0\n"
     ]
    },
    {
     "data": {
      "text/plain": "     paper_id                                              title  \\\n0  PMC8419652  Curriculum tinkering in situations of crises a...   \n1  PMC8527883  Similarities and Differences in the Acute-Phas...   \n2  PMC7107128  Effect of insoluble fiber supplementation appl...   \n3  PMC7972757  Narrating Arabic Translation Online: Another P...   \n4  PMC8834262  Roles of Podoplanin in Malignant Progression o...   \n\n                                             authors  \\\n0                        Amin, Nyna; Mahabeer, Pryah   \n1  Coleman, Celeste; Doyle-Meyers, Lara A.; Russe...   \n2      Yokhana, J. S.; Parkinson, G.; Frankel, T. L.   \n3                               Alonayq, Abdulmohsen   \n4  Suzuki, Hiroyuki; Kaneko, Mika K.; Kato, Yukinari   \n\n                         journal  \\\n0              Prospects (Paris)   \n1                  Front Immunol   \n2                      Poult Sci   \n3  When Translation Goes Digital   \n4                          Cells   \n\n                                            abstract  \\\n0  This article interrogates a curriculum recover...   \n1  Understanding SARS-CoV-2 immune pathology is c...   \n2  Two experiments were conducted to study effect...   \n3  This chapter takes a socionarrative approach t...   \n4  Podoplanin (PDPN) is a cell-surface mucin-like...   \n\n                                           body_text  \\\n0  In this section, we provide an overview of Sou...   \n1  The rapid emergence and dissemination of sever...   \n2  Growth and development in layer pullets during...   \n3  The translation sector has seen an increase in...   \n4  Podoplanin (PDPN)/T1α/E11 antigen/PA2.26 antig...   \n\n                                                 bib  \n0  ['Big policies/small world: An introduction to...  \n1  ['Clinical Characteristics of Coronavirus Dise...  \n2  ['The estimation of pepsin, trypsin, papain, a...  \n3  ['Arabic tradition', 'The narrative constructi...  \n4  ['Podoplanin: An emerging cancer biomarker and...  ",
      "text/html": "<div>\n<style scoped>\n    .dataframe tbody tr th:only-of-type {\n        vertical-align: middle;\n    }\n\n    .dataframe tbody tr th {\n        vertical-align: top;\n    }\n\n    .dataframe thead th {\n        text-align: right;\n    }\n</style>\n<table border=\"1\" class=\"dataframe\">\n  <thead>\n    <tr style=\"text-align: right;\">\n      <th></th>\n      <th>paper_id</th>\n      <th>title</th>\n      <th>authors</th>\n      <th>journal</th>\n      <th>abstract</th>\n      <th>body_text</th>\n      <th>bib</th>\n    </tr>\n  </thead>\n  <tbody>\n    <tr>\n      <th>0</th>\n      <td>PMC8419652</td>\n      <td>Curriculum tinkering in situations of crises a...</td>\n      <td>Amin, Nyna; Mahabeer, Pryah</td>\n      <td>Prospects (Paris)</td>\n      <td>This article interrogates a curriculum recover...</td>\n      <td>In this section, we provide an overview of Sou...</td>\n      <td>['Big policies/small world: An introduction to...</td>\n    </tr>\n    <tr>\n      <th>1</th>\n      <td>PMC8527883</td>\n      <td>Similarities and Differences in the Acute-Phas...</td>\n      <td>Coleman, Celeste; Doyle-Meyers, Lara A.; Russe...</td>\n      <td>Front Immunol</td>\n      <td>Understanding SARS-CoV-2 immune pathology is c...</td>\n      <td>The rapid emergence and dissemination of sever...</td>\n      <td>['Clinical Characteristics of Coronavirus Dise...</td>\n    </tr>\n    <tr>\n      <th>2</th>\n      <td>PMC7107128</td>\n      <td>Effect of insoluble fiber supplementation appl...</td>\n      <td>Yokhana, J. S.; Parkinson, G.; Frankel, T. L.</td>\n      <td>Poult Sci</td>\n      <td>Two experiments were conducted to study effect...</td>\n      <td>Growth and development in layer pullets during...</td>\n      <td>['The estimation of pepsin, trypsin, papain, a...</td>\n    </tr>\n    <tr>\n      <th>3</th>\n      <td>PMC7972757</td>\n      <td>Narrating Arabic Translation Online: Another P...</td>\n      <td>Alonayq, Abdulmohsen</td>\n      <td>When Translation Goes Digital</td>\n      <td>This chapter takes a socionarrative approach t...</td>\n      <td>The translation sector has seen an increase in...</td>\n      <td>['Arabic tradition', 'The narrative constructi...</td>\n    </tr>\n    <tr>\n      <th>4</th>\n      <td>PMC8834262</td>\n      <td>Roles of Podoplanin in Malignant Progression o...</td>\n      <td>Suzuki, Hiroyuki; Kaneko, Mika K.; Kato, Yukinari</td>\n      <td>Cells</td>\n      <td>Podoplanin (PDPN) is a cell-surface mucin-like...</td>\n      <td>Podoplanin (PDPN)/T1α/E11 antigen/PA2.26 antig...</td>\n      <td>['Podoplanin: An emerging cancer biomarker and...</td>\n    </tr>\n  </tbody>\n</table>\n</div>"
     },
     "execution_count": 2,
     "metadata": {},
     "output_type": "execute_result"
    }
   ],
   "source": [
    "data_path = './sampled_df.csv'\n",
    "sampled_df = pd.read_csv(data_path, index_col=0) # index_col = 0 -> avoid fist 'unnamed col'\n",
    "print(f'number of na: {sampled_df.isnull().any().sum()}')\n",
    "sampled_df.head()"
   ],
   "metadata": {
    "collapsed": false
   }
  },
  {
   "cell_type": "code",
   "execution_count": 3,
   "outputs": [
    {
     "data": {
      "text/plain": "   paper_id                                              title  \\\n0         0  Curriculum tinkering in situations of crises a...   \n1         1  Similarities and Differences in the Acute-Phas...   \n2         2  Effect of insoluble fiber supplementation appl...   \n3         3  Narrating Arabic Translation Online: Another P...   \n4         4  Roles of Podoplanin in Malignant Progression o...   \n\n                                             authors  \\\n0                      [Amin, Nyna, Mahabeer, Pryah]   \n1  [Coleman, Celeste, Doyle-Meyers, Lara A., Russ...   \n2    [Yokhana, J. S., Parkinson, G., Frankel, T. L.]   \n3                             [Alonayq, Abdulmohsen]   \n4  [Suzuki, Hiroyuki, Kaneko, Mika K., Kato, Yuki...   \n\n                         journal  \\\n0              Prospects (Paris)   \n1                  Front Immunol   \n2                      Poult Sci   \n3  When Translation Goes Digital   \n4                          Cells   \n\n                                            abstract  \\\n0  This article interrogates curriculum recovery ...   \n1  Understanding SARS-CoV-2 immune pathology crit...   \n2  Two experiments conducted study effects dietar...   \n3  This chapter takes socionarrative approach exa...   \n4  Podoplanin PDPN cell-surface mucin-like glycop...   \n\n                                           body_text  \\\n0  In section provide overview South Africa demog...   \n1  The rapid emergence dissemination severe acute...   \n2  Growth development layer pullets rearing early...   \n3  The translation sector seen increase volunteer...   \n4  Podoplanin PDPN T1 E11 antigen PA2 26 antigen ...   \n\n                                                 bib paper_identifier  \\\n0  [Big policies/small world: An introduction to ...       PMC8419652   \n1  [Clinical Characteristics of Coronavirus Disea...       PMC8527883   \n2  [The estimation of pepsin, trypsin, papain, an...       PMC7107128   \n3  [Arabic tradition, The narrative construction ...       PMC7972757   \n4  [Podoplanin: An emerging cancer biomarker and ...       PMC8834262   \n\n                                  original_body_text  \\\n0  In this section, we provide an overview of Sou...   \n1  The rapid emergence and dissemination of sever...   \n2  Growth and development in layer pullets during...   \n3  The translation sector has seen an increase in...   \n4  Podoplanin (PDPN)/T1α/E11 antigen/PA2.26 antig...   \n\n                                   original_abstract  \n0  This article interrogates a curriculum recover...  \n1  Understanding SARS-CoV-2 immune pathology is c...  \n2  Two experiments were conducted to study effect...  \n3  This chapter takes a socionarrative approach t...  \n4  Podoplanin (PDPN) is a cell-surface mucin-like...  ",
      "text/html": "<div>\n<style scoped>\n    .dataframe tbody tr th:only-of-type {\n        vertical-align: middle;\n    }\n\n    .dataframe tbody tr th {\n        vertical-align: top;\n    }\n\n    .dataframe thead th {\n        text-align: right;\n    }\n</style>\n<table border=\"1\" class=\"dataframe\">\n  <thead>\n    <tr style=\"text-align: right;\">\n      <th></th>\n      <th>paper_id</th>\n      <th>title</th>\n      <th>authors</th>\n      <th>journal</th>\n      <th>abstract</th>\n      <th>body_text</th>\n      <th>bib</th>\n      <th>paper_identifier</th>\n      <th>original_body_text</th>\n      <th>original_abstract</th>\n    </tr>\n  </thead>\n  <tbody>\n    <tr>\n      <th>0</th>\n      <td>0</td>\n      <td>Curriculum tinkering in situations of crises a...</td>\n      <td>[Amin, Nyna, Mahabeer, Pryah]</td>\n      <td>Prospects (Paris)</td>\n      <td>This article interrogates curriculum recovery ...</td>\n      <td>In section provide overview South Africa demog...</td>\n      <td>[Big policies/small world: An introduction to ...</td>\n      <td>PMC8419652</td>\n      <td>In this section, we provide an overview of Sou...</td>\n      <td>This article interrogates a curriculum recover...</td>\n    </tr>\n    <tr>\n      <th>1</th>\n      <td>1</td>\n      <td>Similarities and Differences in the Acute-Phas...</td>\n      <td>[Coleman, Celeste, Doyle-Meyers, Lara A., Russ...</td>\n      <td>Front Immunol</td>\n      <td>Understanding SARS-CoV-2 immune pathology crit...</td>\n      <td>The rapid emergence dissemination severe acute...</td>\n      <td>[Clinical Characteristics of Coronavirus Disea...</td>\n      <td>PMC8527883</td>\n      <td>The rapid emergence and dissemination of sever...</td>\n      <td>Understanding SARS-CoV-2 immune pathology is c...</td>\n    </tr>\n    <tr>\n      <th>2</th>\n      <td>2</td>\n      <td>Effect of insoluble fiber supplementation appl...</td>\n      <td>[Yokhana, J. S., Parkinson, G., Frankel, T. L.]</td>\n      <td>Poult Sci</td>\n      <td>Two experiments conducted study effects dietar...</td>\n      <td>Growth development layer pullets rearing early...</td>\n      <td>[The estimation of pepsin, trypsin, papain, an...</td>\n      <td>PMC7107128</td>\n      <td>Growth and development in layer pullets during...</td>\n      <td>Two experiments were conducted to study effect...</td>\n    </tr>\n    <tr>\n      <th>3</th>\n      <td>3</td>\n      <td>Narrating Arabic Translation Online: Another P...</td>\n      <td>[Alonayq, Abdulmohsen]</td>\n      <td>When Translation Goes Digital</td>\n      <td>This chapter takes socionarrative approach exa...</td>\n      <td>The translation sector seen increase volunteer...</td>\n      <td>[Arabic tradition, The narrative construction ...</td>\n      <td>PMC7972757</td>\n      <td>The translation sector has seen an increase in...</td>\n      <td>This chapter takes a socionarrative approach t...</td>\n    </tr>\n    <tr>\n      <th>4</th>\n      <td>4</td>\n      <td>Roles of Podoplanin in Malignant Progression o...</td>\n      <td>[Suzuki, Hiroyuki, Kaneko, Mika K., Kato, Yuki...</td>\n      <td>Cells</td>\n      <td>Podoplanin PDPN cell-surface mucin-like glycop...</td>\n      <td>Podoplanin PDPN T1 E11 antigen PA2 26 antigen ...</td>\n      <td>[Podoplanin: An emerging cancer biomarker and ...</td>\n      <td>PMC8834262</td>\n      <td>Podoplanin (PDPN)/T1α/E11 antigen/PA2.26 antig...</td>\n      <td>Podoplanin (PDPN) is a cell-surface mucin-like...</td>\n    </tr>\n  </tbody>\n</table>\n</div>"
     },
     "execution_count": 3,
     "metadata": {},
     "output_type": "execute_result"
    }
   ],
   "source": [
    "from nltk.corpus import stopwords\n",
    "# from nltk.stem import WordNetLemmatizer\n",
    "from ast import literal_eval\n",
    "\n",
    "# only need to download these 3 once\n",
    "# nltk.download('stopwords')\n",
    "# nltk.download('wordnet')\n",
    "# nltk.download('omw-1.4')\n",
    "def pre_processing(df):\n",
    "    path = './processed_df.csv'\n",
    "    if not os.path.isfile(path):\n",
    "        df_c = df.copy()\n",
    "        #no punctuation or non-alphanumeric chars except periods\n",
    "        df_c['body_text'] = df_c.body_text.str.replace('[^A-Za-z0-9\\s+\\-]',' ') #replace special character with a space\n",
    "        df_c['abstract'] = df_c.abstract.str.replace('[^A-Za-z0-9\\s+\\-]',' ') #replace special character with a space\n",
    "\n",
    "        # remove in-text reference e.g., [3-4]\n",
    "        df_c['body_text'] = df_c.body_text.str.replace('\\[.*?\\]',' ')\n",
    "\n",
    "        # remove new lines and back slash\n",
    "        df_c['body_text'] = df_c.body_text.str.replace('\\n',' ')\n",
    "        df_c['body_text'] = df_c.body_text.str.replace('\\s+',' ')\n",
    "\n",
    "        df_c['abstract'] = df_c.abstract.str.replace('\\n',' ')\n",
    "        df_c['abstract'] = df_c.abstract.str.replace('\\s+',' ')\n",
    "\n",
    "        # no stopwords\n",
    "        stops = stopwords.words('english') # english stopwords, because our data is in english\n",
    "        df_c['body_text'] = df_c.body_text.apply(lambda x: \" \".join([word for word in x.split() if word not in stops]))\n",
    "        df_c['abstract'] = df_c.abstract.apply(lambda x: \" \".join([word for word in x.split() if word not in stops]))\n",
    "\n",
    "        # # lemmatization\n",
    "        # lemmatizer = WordNetLemmatizer() # lemmatizer\n",
    "        # df_c['body_text'] = df_c.body_text.apply(lambda x: \" \".join([lemmatizer.lemmatize(word) for word in x.split()]))\n",
    "\n",
    "        # df_c['body_text'] = df_c.body_text.apply(lambda x: x.split('.')[:-1])\n",
    "\n",
    "        df_c['authors'] = df_c.authors.apply(lambda x: x.split(';'))\n",
    "        df_c['authors'] = df_c.authors.apply(lambda x: [name.strip() for name in x if name.strip() != ''])\n",
    "\n",
    "        df_c['paper_identifier'] = df_c['paper_id']\n",
    "        df_c['paper_id'] = [i for i in range(df_c.shape[0])]\n",
    "\n",
    "        # keep the original body text and abstract for showing IR result\n",
    "        df_c['original_body_text'] = df['body_text'].copy()\n",
    "        df_c['original_abstract'] = df['abstract'].copy()\n",
    "\n",
    "\n",
    "        # save to csv file (pre-process is time-consuming, avoid processing everytime)\n",
    "        df_c.to_csv(path)\n",
    "    else:\n",
    "        df_c = pd.read_csv(path,index_col=0,converters={\"bib\": literal_eval,\"authors\": literal_eval}) # body-text col is list of sentences\n",
    "\n",
    "    return df_c\n",
    "\n",
    "processed_df = pre_processing(sampled_df)\n",
    "\n",
    "processed_df.head(5)"
   ],
   "metadata": {
    "collapsed": false
   }
  },
  {
   "cell_type": "markdown",
   "source": [
    "In the pre-processing step, I processed on body text, abstract, and authors. The detailed steps are as follows:\n",
    "1. Removed non-alphanumeric chars (except '-'): Because they are most likely to be greek letters that used in the equations or experiment variables, which is not informative in out task. However, '-' used a lot in medical named entities, such as 'COVID-19', 'SARS-CoV-2', 'whole-blood', therefore, I did not remove '-'. Otherwise it would have negative impact on the performance of NER and thus the following downstream tasks.\n",
    "\n",
    "2. Removed in-text references, new lines, back slashes and stopwords, because they are not informative, and removing them will not affect the NER and other following downstream tasks.\n",
    "\n",
    "3. Processed authors from a string containing all names seperated by ';\" to a list of individual's name (using .split(';'))\n",
    "\n",
    "4. Renamed the 'paper_id' to 'paper_identifier', and use the index of the sample to be the 'paper_id'\n",
    "\n",
    "Some Notes:\n",
    "\n",
    "- I did not perform lowercasing here, because in biomedical cases there are a lot of abbreviations, which will be specifically resolved in the entity linker pipeline when building the KB.\n",
    "- I also didn't perform lemmatization nor stemming, because they might modify the named entity, and would be difficult to be recognized by the NER model. Also, lemmatization and stemming works on token level, but there are named entities consist of multiple word tokens, and modified a token in a named entity phrase would affect the NER and the following downstream tasks.For example, 'lung kidney lymphatic vascular systems', 'lymphatic' will be stemmed to 'lymphat'.\n",
    "- I did not convert the text to BOW as the assignment spec 1.c said, because I will use scispacy to perform NER, which takes text as input. And also in the 'assignment tips' and assignment specification step 4 (d), we are encouraged to use word embeddings, so I am not using BOW to vectorise the text in this assignment."
   ],
   "metadata": {
    "collapsed": false
   }
  },
  {
   "cell_type": "markdown",
   "id": "31d75afc",
   "metadata": {},
   "source": [
    "### 2. Named Entity Recognition and Knowledge Base"
   ]
  },
  {
   "cell_type": "code",
   "execution_count": 4,
   "outputs": [
    {
     "name": "stderr",
     "output_type": "stream",
     "text": [
      "Your CPU supports instructions that this binary was not compiled to use: SSE3 SSE4.1 SSE4.2 AVX AVX2\n",
      "For maximum performance, you can install NMSLIB from sources \n",
      "pip install --no-binary :all: nmslib\n"
     ]
    }
   ],
   "source": [
    "# ! pip install https://s3-us-west-2.amazonaws.com/ai2-s2-scispacy/releases/v0.5.1/en_core_sci_md-0.5.1.tar.gz\n",
    "# ! pip install https://s3-us-west-2.amazonaws.com/ai2-s2-scispacy/releases/v0.5.1/en_ner_bc5cdr_md-0.5.1.tar.gz\n",
    "\n",
    "from scispacy.linking import EntityLinker\n",
    "class Knowledge_Base:\n",
    "    def __init__(self, processed_df):\n",
    "        self.processed_df = processed_df\n",
    "\n",
    "        # init nlp model, model will be loaded when bulding kb\n",
    "        self.nlp = None\n",
    "\n",
    "        # init kb, or load kb if it's already built\n",
    "        self.kb = None\n",
    "        self.kb_path = 'knowledge_base.pkl'\n",
    "        if os.path.isfile(self.kb_path):\n",
    "            with open(self.kb_path, 'rb') as kb_pickled:\n",
    "                self.kb = pickle.load(kb_pickled)\n",
    "        else:\n",
    "            self.build_KB_with_entities()\n",
    "\n",
    "    def __init_nlp(self):\n",
    "        self.nlp = spacy.load(\"en_core_sci_sm\") # for NER #en_ner_bc5cdr_md #en_core_sci_sm\n",
    "\n",
    "        # k=1: return the top candidate (concept with the highest score)\n",
    "        # default score thresh = 0.7, but change to 0.8\n",
    "        # umls: Unified Medical Language System.\n",
    "        self.nlp.add_pipe(\"scispacy_linker\", config={\"resolve_abbreviations\": True, \"linker_name\": \"umls\", 'k':1, 'threshold':0.8}) # for getting canonical name and aliases\n",
    "        return\n",
    "\n",
    "    def __init_KB(self):\n",
    "        # This function only pre-process the paper and author part.\n",
    "        kb = {'paper':{id_str:{} for id_str in self.processed_df['paper_id'].tolist()}}\n",
    "        authors_dict = {}\n",
    "        for id,dic in tqdm.tqdm(kb['paper'].items(), desc = 'Initialize KB', unit = ' article'):\n",
    "            title = self.processed_df.loc[self.processed_df['paper_id']==id]['title'].values[0]\n",
    "            dic.update({'title':title})\n",
    "\n",
    "            authors_lst = self.processed_df.loc[self.processed_df['paper_id']==id]['authors'].values[0]\n",
    "            dic.update({'authors':authors_lst})\n",
    "\n",
    "            for author in authors_lst:\n",
    "                if author not in authors_dict.keys():\n",
    "                    authors_dict.update({author:{'paper_lst':{id}}})\n",
    "                else:\n",
    "                    authors_dict[author]['paper_lst'].add(id)\n",
    "\n",
    "        kb.update({'authors':authors_dict})\n",
    "\n",
    "        # init entity part for futher entity related processes\n",
    "        kb.update({'entities':{}})\n",
    "        return kb\n",
    "\n",
    "    def __update_entity_dict(self,entity_dict,doc,linker,paper_id):\n",
    "        for entity in doc.ents: # for each recognised entities\n",
    "            for umls_ent in entity._.kb_ents: # for each matched umls concept matched\n",
    "                # 'umls_ent[0]' is the concept entity with the highest score\n",
    "                concept_id = (linker.kb.cui_to_entity[umls_ent[0]]).concept_id\n",
    "                canonical_name = (linker.kb.cui_to_entity[umls_ent[0]]).canonical_name\n",
    "                definition = (linker.kb.cui_to_entity[umls_ent[0]]).definition\n",
    "                if len((linker.kb.cui_to_entity[umls_ent[0]]).aliases) == 0:\n",
    "                    umls_aliases_set = set()\n",
    "                else:\n",
    "                    umls_aliases_set = set((linker.kb.cui_to_entity[umls_ent[0]]).aliases)\n",
    "\n",
    "                entity_name = (entity.text).strip()\n",
    "\n",
    "                # if this a new entity for both current KB and this paper\n",
    "                if canonical_name not in self.kb['entities'].keys() and canonical_name not in entity_dict.keys():\n",
    "                    if entity.text != canonical_name:\n",
    "                        umls_aliases_set.add(entity_name)\n",
    "\n",
    "                    # entity_dict.update({canonical_name:{'cid': concept_id, 'definition':definition, 'aliases':umls_aliases_set, 'paper_lst':{paper_id}}})\n",
    "                    entity_dict.update({canonical_name:{'cid': concept_id, 'definition':definition, 'aliases':umls_aliases_set, 'paper_lst':{paper_id},'tf_lst':[[paper_id,1]]}})#*\n",
    "\n",
    "                # if it both in kb and the paper, just +1 in term freq\n",
    "                elif canonical_name in self.kb['entities'].keys() and canonical_name in entity_dict.keys():\n",
    "                    for i,tf_lst in enumerate(entity_dict[canonical_name]['tf_lst']):\n",
    "                        if tf_lst[0] == paper_id:\n",
    "                            entity_dict[canonical_name]['tf_lst'][i][1] = entity_dict[canonical_name]['tf_lst'][i][1]+1\n",
    "                            break\n",
    "\n",
    "                # if this entity not in the KB but in this paper\n",
    "                elif canonical_name not in self.kb['entities'].keys() and canonical_name in entity_dict.keys():\n",
    "                    entity_dict[canonical_name]['paper_lst'].add(paper_id)\n",
    "                    for i,tf_lst in enumerate(entity_dict[canonical_name]['tf_lst']):\n",
    "                        if tf_lst[0] == paper_id:\n",
    "                            entity_dict[canonical_name]['tf_lst'][i][1] = entity_dict[canonical_name]['tf_lst'][i][1]+1\n",
    "                            break\n",
    "                    # entity_dict[canonical_name]['tf_lst'][paper_id] = entity_dict[canonical_name]['tf_lst'][paper_id] +1 #*\n",
    "                    if entity_name != canonical_name:\n",
    "                        entity_dict[canonical_name]['aliases'].add(entity_name)\n",
    "\n",
    "\n",
    "                # if this entity appears in th KB, but new to this paper\n",
    "                elif canonical_name in self.kb['entities'].keys() and canonical_name not in entity_dict.keys():\n",
    "                    self.kb['entities'][canonical_name]['paper_lst'].add(paper_id)\n",
    "                    self.kb['entities'][canonical_name]['tf_lst'].append([paper_id,1])\n",
    "\n",
    "                    # self.kb['entities'][canonical_name]['tf_lst'][paper_id] = self.kb['entities'][canonical_name]['tf_lst'][paper_id] + 1\n",
    "                    if entity_name != canonical_name:\n",
    "                        self.kb['entities'][canonical_name]['aliases'].add(entity_name)\n",
    "                    entity_dict.update(self.kb['entities'][canonical_name])\n",
    "\n",
    "        return entity_dict\n",
    "\n",
    "    def __build_all_entity_dict(self,text,title,paper_id,body_text):\n",
    "        # This function is keeping updating this paper's entity dictionary\n",
    "        # during process paper's title, abstract and the first 500 and last 500 words in body text\n",
    "        entity_dict = {}\n",
    "        linker = self.nlp.get_pipe(\"scispacy_linker\")\n",
    "        text_doc = self.nlp(text)\n",
    "        entity_dict.update(self.__update_entity_dict(entity_dict,text_doc,linker,paper_id))\n",
    "\n",
    "        title_doc = self.nlp(title)\n",
    "        entity_dict.update(self.__update_entity_dict(entity_dict,title_doc,linker,paper_id))\n",
    "\n",
    "        body_text_doc = self.nlp(body_text)\n",
    "        entity_dict.update(self.__update_entity_dict(entity_dict,body_text_doc,linker,paper_id))\n",
    "\n",
    "        return entity_dict\n",
    "\n",
    "    def build_KB_with_entities(self):\n",
    "        self.kb = self.__init_KB()\n",
    "        self.__init_nlp()\n",
    "\n",
    "        for paper_id,paper_dict in tqdm.tqdm(self.kb['paper'].items(), desc = 'Building entities', unit = ' article'):\n",
    "            abstract = self.processed_df.loc[self.processed_df['paper_id']==paper_id]['abstract'].values[0]\n",
    "            title = paper_dict['title']\n",
    "            # only process the 1st 500 and the last 500 words in the body text,\n",
    "            # these might be the introduction and the conclusion of the article, which is more representative of this paper\n",
    "            body_text = self.processed_df.loc[self.processed_df['paper_id']==paper_id]['body_text'].values[0]\n",
    "            body_text_intro = ' '.join(body_text.split()[:500])\n",
    "            body_text_conclu = ' '.join(body_text.split()[-500:])\n",
    "            sampled_body_text = body_text_intro + body_text_conclu\n",
    "\n",
    "            entity_dict = self.__build_all_entity_dict(abstract, title,paper_id, sampled_body_text)\n",
    "            for k in ['cid', 'definition', 'aliases', 'paper_lst']:\n",
    "                entity_dict.pop(k, None)\n",
    "            self.kb['entities'].update(entity_dict)\n",
    "            paper_dict.update({'entities': list(entity_dict.keys())})\n",
    "        for canonical in self.kb['entities'].keys():\n",
    "            temp = []\n",
    "            if isinstance(self.kb['entities'][canonical],dict):\n",
    "                for tf_lst in self.kb['entities'][canonical]['tf_lst']:\n",
    "                    if len(temp) == 0:\n",
    "                        temp.append(tf_lst)\n",
    "                    else:\n",
    "                        if tf_lst[0] == temp[-1][0]:\n",
    "                            temp[-1][1] = temp[-1][1]+1\n",
    "                        else:\n",
    "                            temp.append(tf_lst)\n",
    "                self.kb['entities'][canonical].update({'tf_lst':temp})\n",
    "        self.kb['entities'].pop('tf_lst')\n",
    "        self.__save_kb()\n",
    "        return\n",
    "\n",
    "    def __save_kb(self):\n",
    "        with open(self.kb_path,'wb') as kb_pickled:\n",
    "            pickle.dump(self.kb,kb_pickled)\n",
    "            print('Knowledge base saved successfully!')\n",
    "        return\n",
    "\n",
    "\n",
    "k = Knowledge_Base(processed_df)\n",
    "KB = k.kb"
   ],
   "metadata": {
    "collapsed": false
   }
  },
  {
   "cell_type": "markdown",
   "source": [
    "#### The structure of my knowledge base:\n",
    "\n",
    "```\n",
    "├── KB\n",
    "    ├── 'paper'\n",
    "        ├── 'paper_id 1'\n",
    "            ├── 'title' : xxx\n",
    "            ├── 'authors' : [xxx,xxx,...]\n",
    "            ├── 'entities' : [xxx,xxx,...]\n",
    "        ├── 'paper_id 2'\n",
    "            ├── 'title' : xxx\n",
    "            ├── 'authors' : [xxx,xxx,...]\n",
    "            ├── 'entities' : [xxx,xxx,...]\n",
    "        .\n",
    "        .\n",
    "        .\n",
    "\n",
    "    ├── 'authors'\n",
    "        ├── 'author name 1'\n",
    "            ├── 'paper_lst' : [xxx,xxx,...]\n",
    "        ├── 'author name 2'\n",
    "            ├── 'paper_lst' : [xxx,xxx,...]\n",
    "        .\n",
    "        .\n",
    "        .\n",
    "\n",
    "    ├── 'entities'\n",
    "        ├── 'canonical_name 1'\n",
    "            ├── 'cid' (concept id, or CUI) : xxx\n",
    "            ├── 'definition' : xxx\n",
    "            ├── 'aliases' : [xxx,xxx,...]\n",
    "            ├── 'paper_lst' : [xxx,xxx,...]\n",
    "            ├── 'tf_lst' : [xxx,xxx,...]\n",
    "        ├── 'canonical_name 2'\n",
    "            ├── 'cid' (concept id, or CUI) : xxx\n",
    "            ├── 'definition' : xxx\n",
    "            ├── 'aliases' : [xxx,xxx,...]\n",
    "            ├── 'paper_lst' : [xxx,xxx,...]\n",
    "            ├── 'tf_lst' : [xxx,xxx,...]\n",
    "        ├── 'canonical_name 3'\n",
    "            ├── 'cid' (concept id, or CUI) : xxx\n",
    "            ├── 'definition' : xxx\n",
    "            ├── 'aliases' : [xxx,xxx,...]\n",
    "            ├── 'paper_lst' : [xxx,xxx,...]\n",
    "            ├── 'tf_lst' : [xxx,xxx,...]\n",
    "        .\n",
    "        .\n",
    "        .\n",
    "```\n",
    "In this section, I only processed the paper title, abstract and first 500 words and last 500 words of the body text, because these two parts of the body text can introduce and conclude this paper, which are more representative of the body text. (I tried to process the whole body_text previously, but my computer always froze and could not process all 10000 samples' whole body text, so I sub-sampled the body text to these two parts to represent the whole body text). The process pipeline consists of NER, abbrev resolution, and a further text normalisation using UMLS's concept id (cui). The detailed processing steps are as follows: <br>\n",
    "\n",
    "I utilized the library sciSpaCy 'en_core_sci_sm' pretrained model to perform Named Entity Recognition, and added extra pipeline ,entity_linker with abbreviation resolution, to link the recognized entity to the UMLS knowledge base, where the 'UMLS' stands for the Unified Medical Language System. The entity linker will link the entity to an external medical knowledge base. In this case, I used UMLS, which contains around 3M biomedical concepts. There are other options of the external knowledge base, such as MESH (Medical Subject Headings, 30K entities), but I am using the UMLS, because it is the largest medical knowledge base in SciSpaCy. In this step, the entity linker will map the recognised entity to the known entity (or concept) in th UMLS. This process will also resolve the abbreviations, by adding \"resolve_abbreviations\": True. Abbreviation resolution is an important step because abbreviations are commonly exist in biomedical texts. For each recognised entity, I will only link it to the top 1 match (by setting 'k':1), with a threshold of 0.8 (the default thresh is 0.7, but I tuned it up to 0.8, for a more fine-grained output).\n",
    "Once I match it to a concept entity in UMLS, then I keep its canonical name and other alias recorded in UMLS. If the entities are recognised but not the same as the UMLS canonical name nor any UMLS alias, then this entity name will be added to its alias list as well, and its UMLS canonical name will be the key of this entity entry in the KB. Therefore, during the construction of the KB, the number of entities is growing as the model scanning through the articles, and at the same time, each entities' aliases list are growing too. Furthermore, if the entity is already exist in the KB, its 'paper_lst' is also updated when scanning new articles."
   ],
   "metadata": {
    "collapsed": false
   }
  },
  {
   "cell_type": "markdown",
   "source": [
    "##### Show some entries of Knowledge Base"
   ],
   "metadata": {
    "collapsed": false
   }
  },
  {
   "cell_type": "code",
   "execution_count": 5,
   "outputs": [
    {
     "name": "stdout",
     "output_type": "stream",
     "text": [
      "entry: COVID-19 aliases: \n",
      " {'CoVID-19', 'Disease caused by 2019 novel coronavirus', 'Covid-19', 'Disease caused by Wuhan coronavirus', 'CoViD-19', 'covid-19', 'Disease caused by 2019-nCoV', 'COvid-19', 'Disease caused by 2019 novel coronavirus (disorder)'} \n",
      " \n",
      "\n",
      "--------------------------------------------------------------------\n",
      "entry: paper id 1: \n",
      "\n",
      "title :\n",
      "\n",
      "Similarities and Differences in the Acute-Phase Response to SARS-CoV-2 in Rhesus Macaques and African Green Monkeys \n",
      "\n",
      "authors :\n",
      "\n",
      "['Coleman, Celeste', 'Doyle-Meyers, Lara A.', 'Russell-Lodrigue, Kasi E.', 'Golden, Nadia', 'Threeton, Breanna', 'Song, Kejing', 'Pierre, Genevieve', 'Baribault, Carl', 'Bohm, Rudolf P.', 'Maness, Nicholas J.', 'Kolls, Jay K.', 'Rappaport, Jay', 'Mudd, Joseph C.'] \n",
      "\n",
      "20 entities:  \n",
      "\n",
      "['Transcription, Genetic', 'Post-infectious disorder', 'week', 'Evidence', 'Physiologic Coordination', 'Coordinated', 'Coordination of Benefits - Coordination', 'Burden', 'Gene Modules', 'Species - Nature of Abnormal Testing', 'Species', 'CDISC SEND Laboratory Animal Species Terminology', 'SEND Test System Common Name', 'Gamma globulin serum', 'Up-Regulation (Physiology)', 'neutrophil', 'Mast cell degranulation', 'Infected', 'Test Result', 'Rostromedial auditory cortex'] \n",
      "\n",
      "--------------------------------------------------------------------\n",
      "entry: author: Coleman, Celeste: \n",
      "\n",
      "paper_lst :\n",
      "\n",
      "{1} \n",
      "\n"
     ]
    }
   ],
   "source": [
    "print('entry: COVID-19 aliases: \\n',KB['entities']['COVID-19']['aliases'],'\\n \\n')\n",
    "print('--------------------------------------------------------------------')\n",
    "print('entry: paper id 1: \\n')\n",
    "for k,v in KB['paper'][1].items():\n",
    "        if k == 'entities':\n",
    "            print('20 entities: ','\\n')\n",
    "            print(v[10:30],'\\n')\n",
    "        else:\n",
    "            print(k,':\\n')\n",
    "            print(v,'\\n')\n",
    "print('--------------------------------------------------------------------')\n",
    "print('entry: author: Coleman, Celeste: \\n')\n",
    "for k,v in KB['authors']['Coleman, Celeste'].items():\n",
    "    print(k,':\\n')\n",
    "    print(v,'\\n')"
   ],
   "metadata": {
    "collapsed": false
   }
  },
  {
   "cell_type": "markdown",
   "source": [
    "### 3. Indexing method"
   ],
   "metadata": {
    "collapsed": false
   }
  },
  {
   "cell_type": "code",
   "execution_count": 5,
   "outputs": [],
   "source": [
    "def generate_inverted_index(KB,processed_df):\n",
    "    inverted_dict = {}\n",
    "    # for key in ['authors']:\n",
    "    for key in ['authors','entities']:\n",
    "        canonical_lst = list(set(KB[key].keys()))\n",
    "        for can in canonical_lst:\n",
    "            inverted_dict.update({can:[]})\n",
    "            if key == 'entities':\n",
    "                for id_tf_tupe in KB['entities'][can]['tf_lst']:\n",
    "                    inverted_dict[can].append(id_tf_tupe)\n",
    "                    inverted_dict[can].append((paper_id,tf))\n",
    "            else:\n",
    "                for paper_id in KB[key][can]['paper_lst']:\n",
    "                    tf = 1 # author name will only apperar once in the paper\n",
    "                    inverted_dict[can].append((paper_id,tf))\n",
    "            inverted_dict[can].sort(key=lambda x: x[0])\n",
    "    return inverted_dict\n",
    "\n",
    "inverted_index = generate_inverted_index(KB,processed_df)"
   ],
   "metadata": {
    "collapsed": false
   }
  },
  {
   "cell_type": "code",
   "execution_count": 7,
   "outputs": [
    {
     "name": "stdout",
     "output_type": "stream",
     "text": [
      "First 10 paper mentioned COVID-19 (or its aliases):  [0, 1, 5, 6, 7, 8, 9, 10, 11, 12] \n",
      "\n",
      "Show 5 article mentioned mRNA Expression (idx):  [1, 4, 10, 11, 13] \n",
      "\n",
      "Show 5 article mentioned mRNA Expression (title):\n",
      "Similarities and Differences in the Acute-Phase Response to SARS-CoV-2 in Rhesus Macaques and African Green Monkeys\n",
      "Roles of Podoplanin in Malignant Progression of Tumor\n",
      "COVID-19: Clinical features, case fatality, and the effect of symptoms on mortality in hospitalized cases in Iran\n",
      "Coronary Thrombo-Embolic Events after Covid-19 Vaccination- A Single Centre Study\n",
      "Do suicide rates in children and adolescents change during school closure in Japan? The acute effect of the first wave of COVID-19 pandemic on child and adolescent mental health\n",
      " \n",
      " len inverted index: 126308\n"
     ]
    }
   ],
   "source": [
    "print('First 10 paper mentioned COVID-19 (or its aliases): ',[lst[0] for lst in inverted_index['COVID-19'][:10]],'\\n')\n",
    "print('Show 5 article mentioned mRNA Expression (idx): ', [lst[0] for lst in inverted_index['mRNA Expression'][:5]],'\\n')\n",
    "print('Show 5 article mentioned mRNA Expression (title):')\n",
    "for id in inverted_index['mRNA Expression'][:5]:\n",
    "    title = processed_df.loc[processed_df['paper_id']==id[0]]['title'].values[0]\n",
    "    print(title)\n",
    "\n",
    "print(f' \\n len inverted index: {len(inverted_index)}')"
   ],
   "metadata": {
    "collapsed": false
   }
  },
  {
   "cell_type": "markdown",
   "source": [
    "This section, the article indexing method is inverted index by named entities.\n",
    "<br>\n",
    " Each canonical name is a key in inverted_index dictionary, its value is a list of tuples, where each tuple contains a id of the paper that mentioned this entity, and the term frequency of this entity in this paper (tf). By utilizing the information in the KB, it's very efficient to build the inverted index. Because these information can be directly obtained from the KB. Note, the term frequency here is the value after the text normalisation, because the term frequency in the KB considered the UMLS alias and other names mapped to the same UMLS concept as well. <br>\n",
    "\n",
    "With the help of inverted index, we can significantly reduce the search space during the retrieval of documents."
   ],
   "metadata": {
    "collapsed": false
   },
   "outputs": [
    {
     "name": "stderr",
     "output_type": "stream",
     "text": [
      " 67%|██████▋   | 40914/60760 [09:44<08:44, 37.81it/s]"
     ]
    }
   ]
  },
  {
   "cell_type": "markdown",
   "id": "067cebcf",
   "metadata": {},
   "source": [
    "### 4. Text matching utility"
   ]
  },
  {
   "cell_type": "markdown",
   "source": [
    "##### GloVe"
   ],
   "metadata": {
    "collapsed": false
   }
  },
  {
   "cell_type": "code",
   "execution_count": 6,
   "outputs": [],
   "source": [
    "# This function will read the clove file, and create a dictionary for our vocabulary\n",
    "def build_glove_embedding_dict():\n",
    "    glove_final_dict_path = 'glove_final_dict.pkl'\n",
    "    if os.path.isfile(glove_final_dict_path):\n",
    "        with open(glove_final_dict_path, 'rb') as kb_pickled:\n",
    "            embedding_vector = pickle.load(kb_pickled)\n",
    "    else:\n",
    "        WV_PATH = 'glove.840B.300d.txt'\n",
    "        embedding_vector = {}\n",
    "        f = open(WV_PATH,encoding=\"utf8\") #embedding dim = 300\n",
    "        for line in tqdm.tqdm(f,desc = 'Building word vector dictionary'):\n",
    "            value = line.split(' ')\n",
    "            word = value[0]\n",
    "            coef = np.array(value[1:],dtype = 'float32')\n",
    "            embedding_vector[word] = coef\n",
    "        f.close()\n",
    "        print('Loaded %s word vectors.' % len(embedding_vector))\n",
    "        with open(glove_final_dict_path,'wb') as f_pickled:\n",
    "            pickle.dump(embedding_vector,f_pickled)\n",
    "            print('glove_final_dict saved successfully!')\n",
    "    return embedding_vector\n",
    "\n",
    "glove_dict = build_glove_embedding_dict()"
   ],
   "metadata": {
    "collapsed": false
   }
  },
  {
   "cell_type": "markdown",
   "source": [
    "I used the pre-trained embedding layer GloVe 840B 300d.(download through: https://nlp.stanford.edu/projects/glove/) GloVe is pre-trained to capture the context of the word in the embedding through explicitly capturing the co-occurrence probability. It aims to be built not just on the word probabilities, but their co-occurrence probabilities within the context, and this is used in its loss function in its pre-train process. <br>\n",
    "\n",
    "Steps: <br>\n",
    "Download Glove, open the text file, and create a dictionary with word as a key and its corresponding embedding vector as its value. <br>\n",
    "\n",
    "Note: I found GloVe is not very good when working with biomedical text, because GloVe is not sufficiently trained on biomedical texts. For example, the Glove I am using (840B 300d) was just trained on common crawled text. There are many medical word not in Glove Embedding"
   ],
   "metadata": {
    "collapsed": false
   }
  },
  {
   "cell_type": "markdown",
   "source": [
    "##### Check the percentage of words mentioned in KB and also exists in GloVe"
   ],
   "metadata": {
    "collapsed": false
   }
  },
  {
   "cell_type": "code",
   "execution_count": 7,
   "outputs": [
    {
     "name": "stdout",
     "output_type": "stream",
     "text": [
      "There are 196709 tokens exist in the KB, and 87799 of these tokens are available in GloVe (44.63% vocabulary availabel in GloVe)\n"
     ]
    }
   ],
   "source": [
    "def check_glove_available_percentage(glove_dict,KB):\n",
    "    all_ent = []\n",
    "    for can in list(set(KB['entities'].keys())):\n",
    "        all_ent.append(can)\n",
    "        alias_lst = list(KB['entities'][can]['aliases'])\n",
    "        all_ent.extend(alias_lst)\n",
    "    unique_token = list({token for ent in all_ent for token in ent.split(' ')})\n",
    "    num_token_exist = 0\n",
    "    for token in unique_token:\n",
    "        if token in glove_dict.keys():\n",
    "            num_token_exist += 1\n",
    "    percent = num_token_exist/len(unique_token)\n",
    "    print(f\"There are {len(unique_token)} tokens exist in the KB, and {num_token_exist} of these tokens are available in GloVe ({round(percent*100,2)}% vocabulary availabel in GloVe)\")\n",
    "    return\n",
    "check_glove_available_percentage(glove_dict,KB)"
   ],
   "metadata": {
    "collapsed": false
   }
  },
  {
   "cell_type": "markdown",
   "source": [
    "The lack of medical vocabulary is the major drawback of using GloVe embedding in this assignment. However, using pretrained word embedding is asked in the assignment step 4(d). Therefore, I am still going to implement my IR system using GloVe. Furthermore, integrating the pre-trained word embedding into the Information Retrival System can generally improve the performance of the retrival, because TF-IDF cannot imply the semantic similarity, whereas, the pre-trained word embeddings learned the semantic meaning of the words over a large amount of text. Therefore, I am going to integrate GloVe into the IR System.\n",
    "<br>\n",
    "Potential Improvement: <br>\n",
    "1. It's better to use a word embedding that can capture more medical terms' meanings, instead of using general-purpose word embedding GloVe. I did some research on this and found a publically available biomedical word embedding 'cui2vec' (GitHub: https://github.com/beamandrew/cui2vec , download: https://figshare.com/s/00d69861786cd0156d81 , paper: https://arxiv.org/abs/1804.01486 ). 'cui2vec' can map UMLS concept unique identifier (cui) to a vector. This implies 'cui2vec' word embedding is highly aligned and consistent with our knowledge base that is built with UMLS concepts as well. However, 'cui2vec' does not cover a lot of the entity concepts that are in out CORD-19 article KB (only 32.43% available, which is even worse than GloVe. 'cui2vec' is in entity phrase levels, GloVe is in word token level, but generally speaking, 32.43% in entity level is worse than 44.63% in token level, because even there is one unknown word in a medical phrase, but if we can embed other tokens, the model can still contain partial information of this token). Other than 'cui2vec', there is an available 'BioWordVec'. 'BioWordVec' is a biomedical word embedding pre-trained on PubMed+MIMIC-III using FastText, but this embedding is too big (13GB) for my local computer. Therefore, I am going to use GloVe embedding, which can be used on my local PC, and also covers larger amount of medical terms compared with 'cui2vec'. However, if I have a computer with better computation power and bigger memory, I will definitely give 'BioWordVec' a try.\n",
    "<br>"
   ],
   "metadata": {
    "collapsed": false
   }
  },
  {
   "cell_type": "markdown",
   "source": [
    "##### The code below shows the concept vocabulary of cui2vec word embedding, which indicates cui2vec covers less than GloVe for our KB."
   ],
   "metadata": {
    "collapsed": false
   }
  },
  {
   "cell_type": "code",
   "execution_count": 8,
   "outputs": [
    {
     "name": "stdout",
     "output_type": "stream",
     "text": [
      "The number of concept unique identifier in cui2vec is: 109053\n"
     ]
    }
   ],
   "source": [
    "def build_med_embedding_dict():\n",
    "    med_final_dict_path = 'med_final_dict.pkl'\n",
    "    if os.path.isfile(med_final_dict_path):\n",
    "        with open(med_final_dict_path, 'rb') as kb_pickled:\n",
    "            embedding_vector = pickle.load(kb_pickled)\n",
    "    else:\n",
    "        WV_PATH = 'cui2vec_pretrained.csv'\n",
    "        embedding_vector = {}\n",
    "        df = pd.read_csv(WV_PATH)\n",
    "        dim_cols = ['V'+str(i) for i in range(1,501)]\n",
    "        df.columns = ['cui']+dim_cols\n",
    "        df['vec'] = df[dim_cols].values.tolist()\n",
    "        df.drop(columns=dim_cols, inplace=True)\n",
    "        for cid,wv in zip(df['cui'],df['vec']):\n",
    "            embedding_vector.update({cid:np.array(wv)})\n",
    "\n",
    "        print('Loaded %s word vectors.' % len(embedding_vector))\n",
    "        with open(med_final_dict_path,'wb') as f_pickled:\n",
    "            pickle.dump(embedding_vector,f_pickled)\n",
    "            print('med_final_dict saved successfully!')\n",
    "\n",
    "    return embedding_vector\n",
    "\n",
    "med_dict = build_med_embedding_dict()\n",
    "print(f'The number of concept unique identifier in cui2vec is: {len(med_dict)}')"
   ],
   "metadata": {
    "collapsed": false
   }
  },
  {
   "cell_type": "code",
   "execution_count": 9,
   "outputs": [
    {
     "name": "stdout",
     "output_type": "stream",
     "text": [
      "There are 60760 entity cui exist in the KB, and 19705 concpets in KB are available in cui2vec embedding (32.43% entities availabel in cui2vec)\n"
     ]
    }
   ],
   "source": [
    "def check_med_available_percentage(med_dict,KB):\n",
    "    all_cui_kb = [ent_dict['cid'].strip() for ent_dict in KB['entities'].values() if isinstance(ent_dict,dict)]\n",
    "    num_ent_exist = 0\n",
    "    for concept in all_cui_kb:\n",
    "        if concept in med_dict.keys():\n",
    "            num_ent_exist += 1\n",
    "    percent = num_ent_exist/len(all_cui_kb)\n",
    "    print(f\"There are {len(all_cui_kb)} entity cui exist in the KB, and {num_ent_exist} concpets in KB are available in cui2vec embedding ({round(percent*100,2)}% entities availabel in cui2vec)\")\n",
    "    return\n",
    "check_med_available_percentage(med_dict,KB)"
   ],
   "metadata": {
    "collapsed": false
   }
  },
  {
   "cell_type": "markdown",
   "source": [
    "2. Due to the lack of coverage of medical terminologies in GloVe embedding, I am going to use both TF-IDF and pre-trained GloVe word embeddings in my IR system. By combining these two scores, the retrival performance can be more robust, especially in the cases of out-of-vocabulary in GloVe. The detailed implementation of my IR system as follows:\n",
    "\n",
    "- query pre-processing:\n",
    "    - In my IR system, I pre-process the query by removing the stopwords. Then perform NER by using two models, one is 'en_core_sci_sm' for medical entity recognition, and 'en_core_web_sm' for general named entity recognition. This is because the SciSpaCy medical NER model are not good at recognising general entities, such as, author names, etc. Therefore, we also need a general NER model too.\n",
    "- matching common entities and get the posting list to reduce the paper search space:\n",
    "    - if the entity in the query is matched to a canonical name in the inverted index key, then we store this entity for further embedding and tf-idf computation, also get id of the articles mentioned this entity.\n",
    "    - if this entity in the query is an alias (other associated names) of a canonical name, then we will get its canonical name. Then do the same steps above.\n",
    "    - If query entity is neither a canonical name nor an alias, then I compute the cosine similarity of this query entity with all the canonical names in the inverted index. if all the similarities are < 0.7, it won't match to any doc canonical entities, and we will ignore this query entity. Otherwise, the query entity will match to the canonical name with the highest similarity score. (This text normalisation step can also be done with the scispacy UMLS entitylinker, but it's a very heavy model, and it is very time-consuming. Therefore, I am utilising the cosine similarity of the embedding to perform the soft match. Normalising the query text is important, because there will be query entities that are neither the canonical name nor the known aliases in the KB, but they might describe the same concept. Using cosine similarity to perform the soft match can mitigate this issue)\n",
    "    - Finally, the query will be represented by these matched entities, and at the same time we also obtained a reduced doc search space from inverted index method\n",
    "- Compute the score for all the doc in the reduced search space\n",
    "    - The score of the retrival rank contains two parts, the tf-idf and the cosine similarity of the query and document vectors\n",
    "        - The query and the document are both represented by their recognised entities. If an entity is composed of multiple word tokens, then this entity will be represented as a mean-pooling of all the tokens, therefore, all the entity embeddings are 300d (the dimension is the same as the GloVe embedding for a single token). Then the query embedding and the document embedding vector is the mean-pooling vector of all their recognised entities, so the query and the documents vectors are both 300d.\n",
    "        - To alleviate the limited medical vocabulary coverage of the GloVe embedding, I utilised both tf-idf and the GloVe embedding cosine similarity.\n",
    "        - I first standardise the embedding cosine similarity list and the tfidf list both in the range of 0-1. For each document I averaged its standardised tf-idf score and the standardised embedding cosine score, and this average will be the final score of ranking. By doing this, some rare medical words that are not in the GloVe embedding can still obtain some ranking score from tf-idf part. There are some out-of-vocabulary retrival test examples below.\n",
    "        - Finally, rank the documents based on the scores.\n",
    "\n",
    "##### The detailed implementation is shown in the code below:"
   ],
   "metadata": {
    "collapsed": false
   }
  },
  {
   "cell_type": "code",
   "execution_count": 10,
   "outputs": [],
   "source": [
    "class Retriever_glove:\n",
    "    def __init__(self,inverted_index,glove_dict,KB,data_df):\n",
    "        self.nlp = spacy.load(\"en_core_sci_sm\") # for medical NER on query\n",
    "        self.nlp_general = spacy.load(\"en_core_web_sm\") # for general NER on query, such as author names, etc\n",
    "        self.word_embedding = glove_dict\n",
    "        self.inverted_index = inverted_index\n",
    "        self.KB = KB\n",
    "        self.norm_dict = self.__canonical_aliases_normalization()\n",
    "        self.data_df = data_df\n",
    "        return\n",
    "\n",
    "    def __get_vec(self,word):\n",
    "        if word in self.word_embedding.keys():\n",
    "            return self.word_embedding.get(word)\n",
    "        else:\n",
    "            # if the word is unknown in GloVe, then return a zero vector with the same dim i.e. 300\n",
    "            return np.zeros(300)\n",
    "\n",
    "    def __embed_text(self,ent_lst):\n",
    "        entity_embedding_dict = {}\n",
    "        for ent in ent_lst:\n",
    "            # if the entity is a term consists of multiple word tokens, then just avergae it\n",
    "            if ' ' in ent:\n",
    "                stack = np.vstack((self.__get_vec(w) for w in ent.split()))\n",
    "                ent_vector = np.mean(stack,axis = 0)\n",
    "            else:\n",
    "                ent_vector = self.__get_vec(ent)\n",
    "            entity_embedding_dict.update({ent:ent_vector})\n",
    "        return entity_embedding_dict\n",
    "\n",
    "    def __canonical_aliases_normalization(self):\n",
    "        norm_dict = {}\n",
    "        for can in list(set(self.KB['entities'].keys())):\n",
    "            for alias in list(self.KB['entities'][can]['aliases']):\n",
    "                norm_dict.update({alias:can})\n",
    "        return norm_dict\n",
    "\n",
    "    def __cal_wv_similarity(self,entity_vec_dict1,entity_vec_dict2):\n",
    "        # if the text contain multiple entities,\n",
    "        # then the vector that represents this text is the average of all the entity vector\n",
    "        for i, embedding_dict in enumerate([entity_vec_dict1,entity_vec_dict2]):\n",
    "            # if there's no embedding, then return similarity of 0\n",
    "            if len(embedding_dict) == 0:\n",
    "                return 0\n",
    "            if len(embedding_dict) == 1:\n",
    "                text_vec = list(embedding_dict.values())[0]\n",
    "            else:\n",
    "                stack = np.vstack((v for v in embedding_dict.values()))\n",
    "                text_vec = np.mean(stack,axis = 0)\n",
    "            if i == 0:\n",
    "                text_vec1 = text_vec\n",
    "            else:\n",
    "                text_vec2 = text_vec\n",
    "\n",
    "        if norm(text_vec1) == 0 or norm(text_vec2) == 0:\n",
    "            return 0\n",
    "        cos_sim = dot(text_vec1, text_vec2)/(norm(text_vec1)*norm(text_vec2))\n",
    "        return cos_sim\n",
    "\n",
    "    def __cal_tfidf_similarity(self,matched_ent,paper_id):\n",
    "        tfidf_score = 0\n",
    "        for ent in matched_ent:\n",
    "            if len([ele[1] for ele in self.inverted_index.get(ent) if ele[0] == paper_id]) != 0:\n",
    "                t_count = [ele[1] for ele in self.inverted_index.get(ent) if ele[0] == paper_id][0]\n",
    "                tf_w = 1 + math.log10(t_count)\n",
    "                N = 10000\n",
    "                df = len(self.KB['entities'][ent]['paper_lst'])\n",
    "                idf_w = math.log10((N/df))\n",
    "                tfidf_score += tf_w*idf_w\n",
    "        # doc_tfidf_norm = self.__get_doc_tfidf_norm(paper_id)\n",
    "        # tfidf_score = tfidf_score/doc_tfidf_norm\n",
    "        return tfidf_score\n",
    "\n",
    "    def __show_result(self,paper_selected):\n",
    "        for rank in range(1,len(paper_selected)+1):\n",
    "            idx = rank -1\n",
    "            snippet = self.data_df.loc[self.data_df['paper_id']==paper_selected[idx][0]]['original_abstract'].values[0]\n",
    "            title = self.data_df.loc[self.data_df['paper_id']==paper_selected[idx][0]]['title'].values[0]\n",
    "            authors = self.data_df.loc[self.data_df['paper_id']==paper_selected[idx][0]]['authors'].values[0]\n",
    "            article_identifier = self.data_df.loc[self.data_df['paper_id']==paper_selected[idx][0]]['paper_identifier'].values[0]\n",
    "            article_number = self.data_df.loc[self.data_df['paper_id']==paper_selected[idx][0]]['paper_id'].values[0]\n",
    "            score = paper_selected[idx][1]\n",
    "            if rank != 1:\n",
    "                print('\\n')\n",
    "            print(f'------------------------------ Match Ranked {rank} (similarity score: {score})------------------------------')\n",
    "            print(f'article identifier: {article_identifier},  article number: {article_number} \\n')\n",
    "            print(f'title:  {title} \\n')\n",
    "            print('Authors: ')\n",
    "            print('; '.join(authors),'\\n')\n",
    "            print('snippet: \\n')\n",
    "            print(snippet)\n",
    "\n",
    "    def retrive(self,query,show = True):\n",
    "        stops = stopwords.words('english') # english stopwords, because our data is in english\n",
    "        query = \" \".join([word for word in query.split() if word not in stops])\n",
    "        query = query.replace('[^A-Za-z0-9\\s+\\-]',' ')\n",
    "        q_doc = self.nlp(query)\n",
    "        q_doc_general = self.nlp_general(query)\n",
    "        q_entities = list(set([ent.text.strip() for ent in  q_doc.ents] + [ent.text.strip() for ent in  q_doc_general.ents]))\n",
    "        query_ent_vec_dict = self.__embed_text(q_entities)\n",
    "\n",
    "        doc_lst = []\n",
    "        matched_ent = []\n",
    "        for ent in q_entities:\n",
    "            # try hard match first\n",
    "            if ent in self.inverted_index.keys():\n",
    "                paper_lst = [ele[0] for ele in self.inverted_index.get(ent)]\n",
    "                doc_lst.extend(paper_lst)\n",
    "                matched_ent.append(ent)\n",
    "            elif ent in self.norm_dict.keys():\n",
    "                can = self.norm_dict[ent]\n",
    "                paper_lst = [ele[0] for ele in self.inverted_index.get(can)]\n",
    "                doc_lst.extend(paper_lst)\n",
    "                matched_ent.append(can)\n",
    "            # if can't hard match, use word vector to soft match them with a threshold\n",
    "            else:\n",
    "                ENT_SOFT_MATCH_THRESH = 0.7\n",
    "                can_lst = list(set(self.norm_dict.values()))\n",
    "                sim_lst = []\n",
    "                for can in can_lst:\n",
    "                    can_vec_dict = self.__embed_text([can])\n",
    "                    q_ent_vec_dict = {ent:query_ent_vec_dict[ent]}\n",
    "\n",
    "                    # if any of these two entities are completely out of vocab in GloVe, skip match them\n",
    "                    if np.all(can_vec_dict.get(can)==0) or np.all(q_ent_vec_dict.get(ent)==0):\n",
    "                        continue\n",
    "\n",
    "                    sim_lst.append(self.__cal_wv_similarity(q_ent_vec_dict,can_vec_dict))\n",
    "                if len(sim_lst) == 0:\n",
    "                    continue\n",
    "                max_sim = max(sim_lst)\n",
    "                if max_sim > ENT_SOFT_MATCH_THRESH:\n",
    "                    max_idx = sim_lst.index(max_sim)\n",
    "                    can = can_lst[max_idx]\n",
    "                    paper_lst = [ele[0] for ele in self.inverted_index.get(can)]\n",
    "                    doc_lst.extend(paper_lst)\n",
    "                    matched_ent.append(can)\n",
    "\n",
    "        doc_to_be_searched = list(set(doc_lst))\n",
    "        wv_score = []\n",
    "        tfidf_score = []\n",
    "        for paper_id in doc_to_be_searched:\n",
    "            doc_ent_lst = self.KB['paper'][paper_id]['entities'] + self.KB['paper'][paper_id]['authors']\n",
    "            doc_ent_vec_dict = self.__embed_text(doc_ent_lst)\n",
    "            wv_score.append(self.__cal_wv_similarity(doc_ent_vec_dict,query_ent_vec_dict))\n",
    "            tfidf_score.append(self.__cal_tfidf_similarity(matched_ent,paper_id))\n",
    "\n",
    "        # standardising the wv similarity score and tfidf score to 0-1 before averaging the two scores\n",
    "        if len(tfidf_score) == 0 or max(tfidf_score) == min(tfidf_score):\n",
    "            std_tfidf_score = [0]*len(tfidf_score)\n",
    "        else:\n",
    "            std_tfidf_score = [(s - min(tfidf_score))/(max(tfidf_score)-min(tfidf_score)) for s in tfidf_score]\n",
    "\n",
    "        if len(wv_score) == 0 or max(wv_score) == min(wv_score):\n",
    "            std_wv_score = [0]*len(wv_score)\n",
    "        else:\n",
    "            std_wv_score = [(s - min(wv_score))/(max(wv_score)-min(wv_score)) for s in wv_score]\n",
    "\n",
    "        # The final retrieval score is the average of the standardised tfidf and the standardised wv cos similarity\n",
    "        scores_lst = [(glove+tfidf)/2 for glove,tfidf in zip(std_wv_score,std_tfidf_score)]\n",
    "        scores_arr = np.array(scores_lst)\n",
    "        ranked_idx = np.argsort(scores_arr)[::-1]\n",
    "        paper_ranked = [(doc_to_be_searched[idx],scores_arr[idx]) for idx in ranked_idx]\n",
    "        if len(paper_ranked) == 0:\n",
    "            print('Sorry, there is no good match :(')\n",
    "        else:\n",
    "            if show == True:\n",
    "                self.__show_result(paper_ranked[:3])\n",
    "            else:\n",
    "                return paper_ranked\n",
    "\n",
    "    def eval(self,queries,labels):\n",
    "        # this function return mrr metric\n",
    "        RR_lst = []\n",
    "        for q,l in zip(queries,labels):\n",
    "            paper_ranked = self.retrive(q,show = False)\n",
    "            paper_id_ranked = [tup[0] for tup in paper_ranked]\n",
    "            if l in paper_id_ranked:\n",
    "                RR = 1/(paper_id_ranked.index(l)+1) # '+1' here is because we are using the position not the index\n",
    "            else:\n",
    "                RR = 0\n",
    "            RR_lst.append(RR)\n",
    "        return sum(RR_lst)/len(RR_lst)\n",
    "\n",
    "IR = Retriever_glove(inverted_index,glove_dict,KB,processed_df)"
   ],
   "metadata": {
    "collapsed": false
   }
  },
  {
   "cell_type": "markdown",
   "source": [
    "How useful NER and KB for this task?\n",
    "- NER: With the help of NER, the number of unique words are significantly reduced and thus improved the time efficiency (without big drop of retrieval performance). Because the conventional IR using inverted index method is utilising all the unique words, which is not a desired method especially when the document collection is huge. After performing NER, the IR system can focus more on the context, so even we reduce the space of inverted index, the IR system can still maintain a good performance. Furthermore, using unique words will break the entity phrases apart, and twisted the representation of the original meaning. Therefore, we need NER to maintain the integrity of the context.\n",
    "- KB: The Knowledge base enable an easy implementation of the retrieval system by collecting all the crucial information of the document collection. In the KB, each document is represented as its entities, so people do not need to go through the entire text. The most important part of KB is the storage of canonical names and the associated aliases for text normalisation. In real life, the ways of conveying the same concept in natural language could be various. And text normalisation could enable the IR system to capture the concepts correctly under these variations."
   ],
   "metadata": {
    "collapsed": false
   }
  },
  {
   "cell_type": "code",
   "execution_count": 11,
   "outputs": [
    {
     "name": "stdout",
     "output_type": "stream",
     "text": [
      "------------------------------ Match Ranked 1 (similarity score: 0.8383830577009896)------------------------------\n",
      "article identifier: PMC7445510,  article number: 7525 \n",
      "\n",
      "title:  Available Evidence and Ongoing Hypothesis on Corona Virus (COVID-19) and Psychosis: Is Corona Virus and Psychosis Related? A Narrative Review \n",
      "\n",
      "Authors: \n",
      "Tariku, Mandaras; Hajure, Mohammedamin \n",
      "\n",
      "snippet: \n",
      "\n",
      "BACKGROUND: Corona virus (COVID-19) is an outbreak of respiratory disease caused by a novel corona virus and declared to be a global health emergency and a pandemic by the World Health Organization (WHO) on March 11, 2020. Prevention strategies to control the transmission of the COVID-19 pandemic, such as closing of schools, refraining from gathering, and social distancing, have direct impacts on mental well-being. SARS-CoV-2 has a devastating psychological impact on the mental health status of the community and, particularly when associated with psychotic symptoms, it could affect the overall quality-of-life. The virus also has the potential to enter and infect the brain. As a result, psychosis symptoms could be an emerging phenomenon associated with the corona virus pandemic. The presence of psychotic symptoms may complicate the management options of patients with COVID-19. OBJECTIVE: The aim of this article review is to elaborate the relationships between COVID-19 and psychotic symptoms. METHODOLOGY: We independently searched different electronic databases, such as Google scholar, PubMed, Medline, CINAHL, EMBASE, PsychInfo, and other relevant sources published in English globally, by using the search terms “psychosis and COVID-19”, “corona virus”, “brief psychotic”, “schizophrenia”, “organic psychosis”, “infectious disease”, “mental illness”, “pandemics”, and “psychiatry” in various permutations and combinations. RESULTS: The results of the included studies revealed that patients with a novel corona virus had psychotic symptoms, including hallucination in different forms of modality, delusion, disorganized speech, and grossly disorganized or catatonic behaviors. The patients with COVID-19-related psychotic symptoms had responded with a short-term administration of the antipsychotic medication. CONCLUSION AND RECOMMENDATION: A corona virus-related psychosis has been identified in different nations, but it is difficult to conclude that a novel corona virus has been biologically related to psychosis or exacerbates psychotic symptoms. Therefore, to identify the causal relationships between COVID-19 and psychosis, the researchers should investigate the prospective study on the direct biological impacts of COVID-19 and psychosis, and the clinicians should pay attention for psychotic symptoms at the treatment center and isolation rooms in order to reduce the complication of a novel corona virus.\n",
      "\n",
      "\n",
      "------------------------------ Match Ranked 2 (similarity score: 0.8140702209887553)------------------------------\n",
      "article identifier: PMC7436308,  article number: 1753 \n",
      "\n",
      "title:  Case Series of Headache Characteristics in COVID‐19: Headache Can Be an Isolated Symptom \n",
      "\n",
      "Authors: \n",
      "Toptan, Tuğçe; Aktan, Çile; Başarı, Ahmet; Bolay, Hayrunnisa \n",
      "\n",
      "snippet: \n",
      "\n",
      "Headache was reported in up to one‐third of the hospitalized patients; yet, the clinical characteristics of headache associated with coronavirus disease 2019 (COVID‐19) have not been defined. This observational case study included patients who were consulted to headache unit due to headache and had COVID‐19 illness. Headache features in 13 PCR‐confirmed COVID‐19 patients with mild symptoms were reported. Headache was the isolated symptom of the COVID‐19 in 3 patients and emerged as an early symptom during the disease course in all patients. Patients specified severe, rapid onset, unrelenting headache with migraine‐like features, as well as unusual sensory symptoms such as anosmia, and gastrointestinal symptoms such as diarrhea and loss of appetite and weight. Headache lasted up to 3 days in 70% of the patients and resolved in all patients within 2 weeks. Despite the fact that most of the patients were female and headache characteristics were suggestive of migraine, majority of patients were not suffering from primary headaches. It was concluded that headache could be an isolated symptom of COVID‐19, which might possibly be ignored in asymptomatic patients. Headaches associated with COVID‐19 included features resembling migraine and/or atypical symptoms including anosmia and diarrhea.\n",
      "\n",
      "\n",
      "------------------------------ Match Ranked 3 (similarity score: 0.8134128763970778)------------------------------\n",
      "article identifier: PMC8872187,  article number: 1618 \n",
      "\n",
      "title:  Does Prenatal Physical Activity Affect the Occurrence of Postnatal Anxiety and Depression? Longitudinal Study \n",
      "\n",
      "Authors: \n",
      "Baran, Joanna; Kalandyk-Osinko, Katarzyna; Baran, Rafał \n",
      "\n",
      "snippet: \n",
      "\n",
      "The aim of the foregoing study was to assess whether physical activity during pregnancy affects the occurrence of anxiety and depression during pregnancy, postpartum and 6 months following childbirth. This study tried to answer the following questions: How was the incidence of depression and anxiety different in the pre- and postpartum periods? What intensity level of physical activity protects against the symptoms of anxiety and depression? Does the time spent engaged in sedentary activities and MVPA affect the occurrence of depression and anxiety before and after childbirth? The study group under analysis consisted of 187 women aged 19–41 years. The research was conducted between April 2016 and November 2020. The study was divided into four stages: T0—qualification to participate in the study; T1—medical history acquisition, consisting of a short questionnaire and two long questionnaires (the Edinburgh Postnatal Depression Scale (EPDS) and General Anxiety Disorder-7 (GAD-7)), as well as an assessment of 7-day physical activity using Actigraph accelerometers during the pregnancy; T2—the completion of the EPDS and GAD-7 questionnaires after the birth; T3—the completion of the EPDS and GAD-7 questionnaire 6 months after giving birth. The obtained results were statistically processed in the Statistica 13.3 software package. A significance level of p < 0.05 was assumed. The highest percentage of depression occurred immediately after the delivery, followed by 6 months after delivery, and the smallest number of women suffered from depression before the birth (p < 0.001). The analysis of correlations of physical activity with anxiety symptoms did not show significant correlations. However, the situation is different in the case of depression symptoms. Women taking fewer steps before delivery showed a greater tendency to develop depressive symptoms before, immediately after and 6 months after the delivery (p < 0.001). Women who were less active (took fewer steps per day, spent less time in moderate-to-vigorous physical (MVPA) activities or spent more time being sedentary) showed symptoms of depression on the EPDS scale. It appeared that those with severe anxiety symptoms had the highest sedentary time scores before the delivery (p = 0.020). Reduced physical activity promotes the onset of postnatal depression, while being active reduces this risk. Interestingly, even light physical activity “protects” against the occurrence of depression and is better than sedentary activities. Such clear conclusions cannot be drawn in relation to anxiety symptoms. Sedentary behaviour may promote anxiety symptoms immediately after childbirth, but this study should be continued in order to confirm it during other time periods.\n"
     ]
    }
   ],
   "source": [
    "query = 'what are the symptoms of covid19?'\n",
    "IR.retrive(query)"
   ],
   "metadata": {
    "collapsed": false
   }
  },
  {
   "cell_type": "markdown",
   "source": [
    "- By reading and analysing the text snippet myself, I found these top 2 articles are highly relevant to the symptoms of COVID, the performance of retrival is really well. For example, the 1st one talks about the possible psychosis symptoms of covid, e.g.'patients with a novel corona virus had psychotic symptoms, including hallucination in different forms of modality, delusion, disorganized speech, and grossly disorganized or catatonic behaviors'. The 2nd article mainly talks about the headache symptoms of covid specifically."
   ],
   "metadata": {
    "collapsed": false
   }
  },
  {
   "cell_type": "code",
   "execution_count": 12,
   "outputs": [
    {
     "name": "stdout",
     "output_type": "stream",
     "text": [
      "------------------------------ Match Ranked 1 (similarity score: 0.9048044074804591)------------------------------\n",
      "article identifier: PMC7104030,  article number: 6172 \n",
      "\n",
      "title:  Virus infection-induced host mRNA degradation and potential application of live cell imaging \n",
      "\n",
      "Authors: \n",
      "Qi, Dan; Guan, Jitian; Wu, Erxi \n",
      "\n",
      "snippet: \n",
      "\n",
      "Viruses exist wherever there is life. They can cause allergy, immune response, inflammation, and even fatal diseases directly or indirectly. Accumulating evidence shows that host RNA undergoes rapid degradation during virus infection. Herein, we focus on several possible mechanisms of infection-induced host RNA turnover, which seems to be a common strategy for both prokaryotic and eukaryotic viruses during the very early stage of infection and a potential application of live cell imaging on its visualization.\n",
      "\n",
      "\n",
      "------------------------------ Match Ranked 2 (similarity score: 0.8952449106334814)------------------------------\n",
      "article identifier: PMC3632658,  article number: 5764 \n",
      "\n",
      "title:  Interplay between viruses and host mRNA degradation☆ \n",
      "\n",
      "Authors: \n",
      "Narayanan, Krishna; Makino, Shinji \n",
      "\n",
      "snippet: \n",
      "\n",
      "Messenger RNA degradation is a fundamental cellular process that plays a critical role in regulating gene expression by controlling both the quality and the abundance of mRNAs in cells. Naturally, viruses must successfully interface with the robust cellular RNA degradation machinery to achieve an optimal balance between viral and cellular gene expression and establish a productive infection in the host. In the past several years, studies have discovered many elegant strategies that viruses have evolved to circumvent the cellular RNA degradation machinery, ranging from disarming the RNA decay pathways and co-opting the factors governing cellular mRNA stability to promoting host mRNA degradation that facilitates selective viral gene expression and alters the dynamics of host-pathogen interaction. This review summarizes the current knowledge of the multifaceted interaction between viruses and cellular mRNA degradation machinery to provide an insight into the regulatory mechanisms that influence gene expression in viral infections.\n",
      "\n",
      "\n",
      "------------------------------ Match Ranked 3 (similarity score: 0.8586802758298353)------------------------------\n",
      "article identifier: PMC3950709,  article number: 3880 \n",
      "\n",
      "title:  Inhibition of translation by IFIT family members is determined by their ability to interact selectively with the 5′-terminal regions of cap0-, cap1- and 5′ppp- mRNAs \n",
      "\n",
      "Authors: \n",
      "Kumar, Parimal; Sweeney, Trevor R.; Skabkin, Maxim A.; Skabkina, Olga V.; Hellen, Christopher U. T.; Pestova, Tatyana V. \n",
      "\n",
      "snippet: \n",
      "\n",
      "Ribosomal recruitment of cellular mRNAs depends on binding of eIF4F to the mRNA’s 5′-terminal ‘cap’. The minimal ‘cap0’ consists of N7-methylguanosine linked to the first nucleotide via a 5′-5′ triphosphate (ppp) bridge. Cap0 is further modified by 2′-O-methylation of the next two riboses, yielding ‘cap1’ (m7GpppNmN) and ‘cap2’ (m7GpppNmNm). However, some viral RNAs lack 2′-O-methylation, whereas others contain only ppp- at their 5′-end. Interferon-induced proteins with tetratricopeptide repeats (IFITs) are highly expressed effectors of innate immunity that inhibit viral replication by incompletely understood mechanisms. Here, we investigated the ability of IFIT family members to interact with cap1-, cap0- and 5′ppp- mRNAs and inhibit their translation. IFIT1 and IFIT1B showed very high affinity to cap-proximal regions of cap0-mRNAs (K(1/2,app) ∼9 to 23 nM). The 2′-O-methylation abrogated IFIT1/mRNA interaction, whereas IFIT1B retained the ability to bind cap1-mRNA, albeit with reduced affinity (K(1/2,app) ∼450 nM). The 5′-terminal regions of 5′ppp-mRNAs were recognized by IFIT5 (K(1/2,app) ∼400 nM). The activity of individual IFITs in inhibiting initiation on a specific mRNA was determined by their ability to interact with its 5′-terminal region: IFIT1 and IFIT1B efficiently outcompeted eIF4F and abrogated initiation on cap0-mRNAs, whereas inhibition on cap1- and 5′ppp- mRNAs by IFIT1B and IFIT5 was weaker and required higher protein concentrations.\n"
     ]
    }
   ],
   "source": [
    "query = 'What is the relation between mRNA expression and covid'\n",
    "IR.retrive(query)"
   ],
   "metadata": {
    "collapsed": false
   }
  },
  {
   "cell_type": "markdown",
   "source": [
    "- From the outputs above, the retrieval is successful. The first two documents are all about viruses and mRNA. While the third document  is about the mRNA only. From the perspective of MRR metric, this is a good retrieval because the desired documents are ranked high, and people usually do not care the rest of the documents once they obtained the related document."
   ],
   "metadata": {
    "collapsed": false
   }
  },
  {
   "cell_type": "markdown",
   "source": [],
   "metadata": {
    "collapsed": false
   }
  },
  {
   "cell_type": "code",
   "execution_count": 13,
   "outputs": [
    {
     "name": "stdout",
     "output_type": "stream",
     "text": [
      "------------------------------ Match Ranked 1 (similarity score: 0.8950082842028202)------------------------------\n",
      "article identifier: PMC8706766,  article number: 1611 \n",
      "\n",
      "title:  Early Childhood Pneumonia Is Associated with Reduced Lung Function and Asthma in First Nations Australian Children and Young Adults \n",
      "\n",
      "Authors: \n",
      "Collaro, Andrew J.; Chang, Anne B.; Marchant, Julie M.; Chatfield, Mark D.; Vicendese, Don; Blake, Tamara L.; McElrea, Margaret S.; Dharmage, Shyamali C. \n",
      "\n",
      "snippet: \n",
      "\n",
      "Background: Some but not all previous studies report that pneumonia in children aged less than five years is associated with lower lung function and elevated risk of respiratory disease. To date, none have explored these associations in at-risk populations such as First Nations Australians, whose incidence of early childhood pneumonia is among the highest reported in the world. Methods: This cross-sectional study included 1276 First Nations Australian children/young adults aged 5–25 years recruited from regional/remote Queensland and Northern Territory communities and schools. Associations between pneumonia and both spirometry values and asthma were investigated using linear and logistic regression. Results: Early childhood pneumonia was associated with lower FEV1 and FVC Z-scores, but not FEV1/FVC% Z-scores, when occurring before age three (FEV1 β = −0.42, [95%CI −0.79, −0.04]; FVC β = −0.62, [95%CI −1.14, −0.09]), and between three and five years (β = −0.50, [95%CI −0.88, −0.12]; β = −0.63, [95%CI −1.17, −0.10]), compared to those who never had pneumonia. Similarly, pneumonia occurring when aged before age three years (OR = 3.68, 95%CI 1.96–6.93) and three to five years (OR = 4.81, 95%CI 1.46–15.8) was associated with increased risk of asthma in later childhood. Conclusions: Early childhood pneumonia is associated with lung function deficits and increased asthma risk in later childhood/early adulthood in First Nations Australians. The disproportionate impact of pneumonia on at-risk children must be addressed as a priority.\n",
      "\n",
      "\n",
      "------------------------------ Match Ranked 2 (similarity score: 0.7551333176258803)------------------------------\n",
      "article identifier: PMC8762757,  article number: 9154 \n",
      "\n",
      "title:  The Investigation of Pulmonary Function Changes of COVID-19 Patients in Three Months \n",
      "\n",
      "Authors: \n",
      "Ye, Lingyan; Yao, Guifei; Lin, Shuangxiang; Fang, Yicheng; Chen, Xi; Wang, Liangxing; He, Susu \n",
      "\n",
      "snippet: \n",
      "\n",
      "BACKGROUND: Novel coronavirus disease 2019 (COVID-19) was discovered in December 2019 and has infected more than 80 million people worldwide, and more than 50 million people have achieved a clinical cure. In this study, the pulmonary function results of patients after clinical medicine for three months were reported. OBJECTIVE: To investigate the effect of COVID-19 on lung function in patients. METHODS: A retrospective analysis was performed on 56 COVID-19-infected patients who were cured after the clinical treatment at Taizhou Public Health Medical Center in Zhejiang Province from January 31, 2020, to March 10, 2020. At discharge and three months after discharge, lung function was measured, including inspiratory vital capacity (IVC), forced vital capacity (FVC), forced expiratory volume in first second (FEV1), forced expiratory volume in first second to inspiratory vital capacity (FEV1/IVC), maximum mid-expiratory flow rate (MEF), peak expiratory flow rate (PEF), and carbon monoxide dispersion (DLCO). RESULTS: At discharge, there were 37 patients (66.1%) with pulmonary dysfunction, 22 patients (39.3%) with ventilation dysfunction, 31 cases (55.4%) with small airway dysfunction, and 16 cases (28.6%) with restricted ventilation dysfunction combined with small airway dysfunction. At 3 months after discharge, 24 of the 56 patients still had pulmonary dysfunction and all of them had small airway dysfunction, of which 10 patients (17.9%) were restricted ventilation dysfunction combined with small airway dysfunction. DLCO was measured three months after discharge. Twenty-nine patients (51.8%) had mild to moderate diffuse dysfunction. All pulmonary function indexes of 56 patients recovered gradually after 3 months after release, except FEV1/IVC, and the difference was statistically significant (P < 0.05). There were 41 patients of normal type (73.2%) and 15 patients of severe type (26.8%). Among the 15 severe patients, 8 patients (53.3%) had ventilation dysfunction at discharge, 9 patients (60%) had small airway dysfunction, 4 patients (26.7%) still had ventilation dysfunction 3 months after discharge, 7 patients (46.7%) had small airway dysfunction, and 10 patients (66.7%) had diffuse dysfunction. Among the 41 common type patients, 14 patients (34.1%) had ventilation dysfunction at discharge, 22 patients (53.7%) had small airway dysfunction, 6 patients (14.6%) still had ventilation dysfunction 3 months after discharge, 17 patients (41.5%) had small airway dysfunction, and 19 patients (46.3%) had diffuse dysfunction. Patients with severe COVID-19 had more pulmonary impairment and improved pulmonary function than normal patients. CONCLUSION: COVID-19 infection can cause lung function impairment, manifested as restricted ventilation dysfunction, small airway dysfunction, and diffuse dysfunction. The pulmonary function of most patients was improved 3 months after clinical cure and discharge, and some patients remained with mild to moderate diffuse dysfunction and small airway dysfunction.\n",
      "\n",
      "\n",
      "------------------------------ Match Ranked 3 (similarity score: 0.7140052587128027)------------------------------\n",
      "article identifier: PMC8906634,  article number: 2509 \n",
      "\n",
      "title:  Common physiologic and proteomic biomarkers in pulmonary and coronary artery disease \n",
      "\n",
      "Authors: \n",
      "Casselbrant, Andreas; Fedorowski, Artur; Frantz, Sophia; Engström, Gunnar; Wollmer, Per; Hamrefors, Viktor \n",
      "\n",
      "snippet: \n",
      "\n",
      "OBJECTIVE: Chronic obstructive pulmonary disease (COPD) and coronary artery disease (CAD) are leading causes of global morbidity and mortality. There is a well-known comorbidity between COPD and CAD, which is only partly explained by smoking and other known common risk factors. In order to better understand the relationship between COPD and CAD, we analyzed myocardial perfusion, pulmonary function and novel cardiovascular biomarkers in patients with symptoms suggesting myocardial ischemia. METHODS: A total of 396 subjects from the Swedish Biomarkers and Genetics CardioPulmonary Physiology Study (BiG CaPPS) were included, all of whom had been referred to myocardial perfusion imaging due to suspected myocardial ischemia. Subjects performed myocardial perfusion imaging (MPI), pulmonary function tests (PFT) and analysis of 92 proteomic biomarkers, previously associated with cardiovascular disease. Linear regression was used to study the relationship between MPI and PFT results and proteomic biomarkers. RESULTS: Subjects with CAD (n = 159) had lower diffusing capacity (D(LCO)) than patients without CAD (6.64 versus 7.17 mmol/(min*kPa*l); p = 0.004) in models adjusted for common covariates such as smoking, but also diabetes and brain natriuretic peptide (BNP). The association remained significant after additional adjustment for forced expiratory volume in one second (FEV(1)) (p = 0.009). Subjects with CAD, compared with subjects without CAD, had higher total airway resistance (0.37 vs 0.36 kPa/(l/s); p = 0.036). Among 92 protein biomarkers, nine were associated with a combined diagnosis of CAD and airflow obstruction: VSIG2, KIM1, FGF-23, REN, XCL1, GIF, ADM, TRAIL-R2 and PRSS8. SIGNIFICANCE: Diffusing capacity for carbon monoxide is decreased in patients with CAD, independently of decreased FEV(1), diabetes, and elevated BNP. Several cardiovascular biomarkers are associated with co-existent CAD and airflow obstruction, but none with airflow obstruction only. The current findings indicate that the interaction between CAD and lung function is complex, including mechanisms beyond the known association between CAD and reduced ventilation.\n"
     ]
    }
   ],
   "source": [
    "query = 'Will covid19 virus damnage the lung function?'\n",
    "IR.retrive(query)"
   ],
   "metadata": {
    "collapsed": false
   }
  },
  {
   "cell_type": "markdown",
   "source": [
    "- From the retrieval above, we can see the 1st and the 3rd documents talk about the lung functions only. The 2nd document is the desired document which talks about both the lung function and the covid. I believe the reason why the first document missing the information about covid is because 'covid' is not in the GloVe embedding, and thus, the overall ranking score is only depending on the GloVe embedding and the tfidf of 'lung function', but for 'covid' it's tfidf only (glove is set to zero vec for unknown words). Therefore, the doc retrieved are more 'lung function' orientated, and less 'covid' oriented. This is a similar as the retrieval of 'what are the symptoms of covid19?', where the top 2 documents are involves both 'symptom' and 'covid', while the last one is missing 'covid'"
   ],
   "metadata": {
    "collapsed": false
   }
  },
  {
   "cell_type": "code",
   "execution_count": 14,
   "outputs": [
    {
     "name": "stdout",
     "output_type": "stream",
     "text": [
      "Is COVID-19 in the glove embedding: False\n",
      "Is covid19 in the glove embedding: False\n"
     ]
    }
   ],
   "source": [
    "print(f\"Is COVID-19 in the glove embedding: {'COVID-19' in glove_dict}\")\n",
    "print(f\"Is covid19 in the glove embedding: {'covid19' in glove_dict}\")"
   ],
   "metadata": {
    "collapsed": false
   }
  },
  {
   "cell_type": "markdown",
   "source": [
    "#### Out-of-volcabulary Tests:"
   ],
   "metadata": {
    "collapsed": false
   }
  },
  {
   "cell_type": "code",
   "execution_count": 15,
   "outputs": [
    {
     "name": "stdout",
     "output_type": "stream",
     "text": [
      "Is 'Lachnospiraceae in GloVe's keys:  False\n",
      "definition of Lachnospiraceae: A taxonomic family of bacterium in the phylum Firmicutes that includes the genera Johnsonella, Dorea, Oribacterium and Anaerostipes, among others. \n",
      "\n",
      "------------------------------ Match Ranked 1 (similarity score: 0.5)------------------------------\n",
      "article identifier: PMC8908209,  article number: 3864 \n",
      "\n",
      "title:  Engineered Bacteria EcN-MT Alleviate Liver Injury in Cadmium-Exposed Mice via its Probiotics Characteristics and Expressing of Metallothionein \n",
      "\n",
      "Authors: \n",
      "Zou, Changwei; Chen, Ying; Li, Hongyu; Li, Wenyu; Wei, Jin; Li, Ziyan; Wang, Xinliang; Chen, Tingtao; Huang, Hong \n",
      "\n",
      "snippet: \n",
      "\n",
      "Cadmium (Cd) exposure is a widespread problem in many parts of the world, but effective means to treat Cd exposure is still lacking. Hence, an engineered strain expressing metallothionein (MT) named Escherichia coli Nissle 1917 (EcN)-MT was constructed, and its potential in the treatment of Cd exposure was evaluated. The in vitro studies showed that metallothionein expressed by EcN-MT could significantly bind Cd. Further, the in vivo results indicated that EcN-MT strain could reduce 26.3% Cd in the liver and increase 24.7% Cd in the feces, which greatly decreased malondialdehyde (MDA) levels and increased catalase (CAT), glutathione (GSH), and superoxide dismutase (SOD) levels in liver, and reduced the expression of toll-like receptor4 (TLR4), nuclear factor-κB (NF-κB), the myeloid differentiation factor 88 (Myd88) andincreased B-cell lymphoma 2 (Bcl-2)/Bcl-2-Associated X (Bax). Moreover, high throughput sequencing results indicated that EcN-MT strain greatly enhanced the beneficial bacteria of Ruminococcaceae, Lactobacillaceae, Akkermansia, Muribaculaceae, Lachnospiraceae, Dubosiella and restored the disturbed microbial ecology to the normal level. Therefore, the high Cd binding capacity of the expressed metallothionein, together with the beneficial characteristics of the host bacteria EcN, makes EcN-MT a sound reagent for the treatment of subchronic Cd exposure-induced liver injury.\n",
      "\n",
      "\n",
      "------------------------------ Match Ranked 2 (similarity score: 0.0)------------------------------\n",
      "article identifier: PMC7719730,  article number: 2223 \n",
      "\n",
      "title:  Mental health status during COVID-19 pandemic in Fars Province, Iran: timely measures \n",
      "\n",
      "Authors: \n",
      "Mani, Arash; Estedlal, Ali Reza; Kamali, Mahsa; Ghaemi, Seyede Zahra; Zarei, Leila; Shokrpour, Nasrin; Heydari, Seyed Taghi; Lankarani, Kamran Bagheri \n",
      "\n",
      "snippet: \n",
      "\n",
      "BACKGROUND: The current corona virus pandemic is acting as a stressor or trauma, which not only threats physical health status, but also threats mental health status and well-being of people. Currently, COVID-19 pandemic is a life-threatening unpredictable condition accompanied with a large number of uncertainties. The present study has mainly aimed to assess mental health and the relevant social factors during this pandemic in Fars province. METHODS: This cross-sectional study was performed on 922 participants in Fars province, Iran, using internet-based data collection technique. All the included participants filled out the General Health Questionnaire (GHQ-28). Moreover, demographic variables and some social factors were evaluated by asking some questions. All the participants were ensured of the confidentiality of the collected data, and willingly completed the questionnaire. RESULTS: Among the participants, there were 629 women (68.2%) and 293 men (31.2%). The mean age of the participants was 36.98 ± 11.08 years old. Four hundred twenty-five subjects (46.1%) obtained GHQ-28 scores above the cut-off point, and accordingly, they were suspected of having poor mental health statuses. Women, in comparison to men (OR = 2.034, 95%:1.62–3.28), and individuals aged < 50 years old, in comparison to those aged > 50 years old (OR: 4.01 95%:2.15–7.50), have poorer mental health statuses. Trusting on media, health authorities, and cooperation with policy makers, as well as having uncertainty on information about Coronavirus pandemic were also shown to be associated with poor mental health condition (P < 0.05). CONCLUSION: The present study revealed that the number of those people with suspected poor mental health in Fars province significantly increased compared to a previous study using the same questionnaire. Furthermore, the participants who had less trust in media and policymakers were more prone to mental health problems. Therefore, it can be concluded that supporting people in these life-threatening pandemic crises is of great importance, so the policy makers and media must present reliable and valid information to people as soon as possible.\n",
      "\n",
      "\n",
      "------------------------------ Match Ranked 3 (similarity score: 0.0)------------------------------\n",
      "article identifier: PMC7312944,  article number: 6886 \n",
      "\n",
      "title:  Chronic Inflammation in the Context of Everyday Life: Dietary Changes as Mitigating Factors \n",
      "\n",
      "Authors: \n",
      "Margină, Denisa; Ungurianu, Anca; Purdel, Carmen; Tsoukalas, Dimitris; Sarandi, Evangelia; Thanasoula, Maria; Tekos, Fotios; Mesnage, Robin; Kouretas, Demetrios; Tsatsakis, Aristidis \n",
      "\n",
      "snippet: \n",
      "\n",
      "The lifestyle adopted by most people in Western societies has an important impact on the propensity to metabolic disorders (e.g., diabetes, cancer, cardiovascular disease, neurodegenerative diseases). This is often accompanied by chronic low-grade inflammation, driven by the activation of various molecular pathways such as STAT3 (signal transducer and activator of transcription 3), IKK (IκB kinase), MMP9 (matrix metallopeptidase 9), MAPK (mitogen-activated protein kinases), COX2 (cyclooxigenase 2), and NF-Kβ (nuclear factor kappa-light-chain-enhancer of activated B cells). Multiple intervention studies have demonstrated that lifestyle changes can lead to reduced inflammation and improved health. This can be linked to the concept of real-life risk simulation, since humans are continuously exposed to dietary factors in small doses and complex combinations (e.g., polyphenols, fibers, polyunsaturated fatty acids, etc.). Inflammation biomarkers improve in patients who consume a certain amount of fiber per day; some even losing weight. Fasting in combination with calorie restriction modulates molecular mechanisms such as m-TOR, FOXO, NRF2, AMPK, and sirtuins, ultimately leads to significantly reduced inflammatory marker levels, as well as improved metabolic markers. Moving toward healthier dietary habits at the individual level and in publicly-funded institutions, such as schools or hospitals, could help improving public health, reducing healthcare costs and improving community resilience to epidemics (such as COVID-19), which predominantly affects individuals with metabolic diseases.\n"
     ]
    }
   ],
   "source": [
    "print(f\"Is 'Lachnospiraceae in GloVe's keys:  {'Lachnospiraceae' in glove_dict.keys()}\")\n",
    "print(f\"definition of Lachnospiraceae: {KB['entities']['Lachnospiraceae']['definition']} \\n\")\n",
    "query = 'what is Lachnospiraceae?'\n",
    "IR.retrive(query)"
   ],
   "metadata": {
    "collapsed": false
   }
  },
  {
   "cell_type": "markdown",
   "source": [
    "- The first rank successfully retrieved the relevant information. For instance, in the first rank '...beneficial bacteria of Ruminococcaceae, Lactobacillaceae, Akkermansia, Muribaculaceae, ***Lachnospiraceae***, Dubosiella and restored the disturbed microbial ecology...'. The IR system passed this out-of-vocabulary test, because, even if 'Lachnospiraceae' is not in GloVe, we can still retrieve relevant docs based on tfidf."
   ],
   "metadata": {
    "collapsed": false
   }
  },
  {
   "cell_type": "code",
   "execution_count": 16,
   "outputs": [
    {
     "name": "stdout",
     "output_type": "stream",
     "text": [
      "Is 'Lymphocytotoxic in GloVe's keys: ' False\n",
      "------------------------------ Match Ranked 1 (similarity score: 1.0)------------------------------\n",
      "article identifier: PMC8818557,  article number: 9473 \n",
      "\n",
      "title:  Occurrence of de novo Donor Specific Antibodies after Covid-19 in kidney transplant recipients is low despite immunosuppression modulation \n",
      "\n",
      "Authors: \n",
      "Masset, Christophe; Gautier-Vargas, Gabriela; Cantarovich, Diego; Dantal, Jacques; Delbos, Florent; Walencik, Alexandre; Kerleau, Clarisse; Hourmant, Maryvonne; Garandeau, Claire; Meurette, Aurélie; Giral, Magali; Benotmane, Ilies; Caillard, Sophie; Blancho, Gilles \n",
      "\n",
      "snippet: \n",
      "\n",
      "INTRODUCTION: Decreased immunosuppression has been proposed for kidney transplant recipients infected with Covid-19 but the impact on the alloreactive immune response during and after infection has been poorly investigated. We assessed the occurrence of anti HLA donor specific antibodies (post-Covid DSA) and rejection episodes following Covid-19 with particular focus on immunosuppression modulation. METHODS: Kidney transplant recipients from two French institutions had anti-HLA antibody screening before and after Covid-19. Management of immunosuppression, rejection episodes, Covid-19 severity, inflammatory markers and antiviral therapies were recorded. RESULTS: From 251 recruited patients, 72 were excluded because of Covid-19 related death (n= 25) and incomplete immunological follow-up (n= 47). Among the remaining 179 included patients, almost half were hospitalized (49.2%). Antimetabolites were interrupted in 47% of patients (82% in hospitalized, median time of resumption of 23 days and in 15% non-hospitalized, median time of resumption of 7 days). Calcineurin inhibitors were interrupted in 12% of patients (all hospitalized, median time of resumption of 11 days). The incidence of post-Covid DSA was 4% (8% and 0% in hospitalized and non-hospitalized, respectively). Allograft rejection occurred in 3 patients (1.7%) and all were hospitalized. Younger age, transplantation less than one year and preexisting DSA were more frequently observed in post-Covid DSA positive patients, whereas inflammatory markers, lymphopenia and use of antiviral therapies were not. CONCLUSION: The incidence of post-Covid DSA among Covid-19 positive kidney transplant recipients was low (4%) despite a significant decrease in immunosuppression and was mainly restricted to high-risk immunological patient’s status. Covid-19 severity was not associated with post-Covid DSA and/or rejection.\n",
      "\n",
      "\n",
      "------------------------------ Match Ranked 2 (similarity score: 0.0)------------------------------\n",
      "article identifier: PMC7719730,  article number: 2223 \n",
      "\n",
      "title:  Mental health status during COVID-19 pandemic in Fars Province, Iran: timely measures \n",
      "\n",
      "Authors: \n",
      "Mani, Arash; Estedlal, Ali Reza; Kamali, Mahsa; Ghaemi, Seyede Zahra; Zarei, Leila; Shokrpour, Nasrin; Heydari, Seyed Taghi; Lankarani, Kamran Bagheri \n",
      "\n",
      "snippet: \n",
      "\n",
      "BACKGROUND: The current corona virus pandemic is acting as a stressor or trauma, which not only threats physical health status, but also threats mental health status and well-being of people. Currently, COVID-19 pandemic is a life-threatening unpredictable condition accompanied with a large number of uncertainties. The present study has mainly aimed to assess mental health and the relevant social factors during this pandemic in Fars province. METHODS: This cross-sectional study was performed on 922 participants in Fars province, Iran, using internet-based data collection technique. All the included participants filled out the General Health Questionnaire (GHQ-28). Moreover, demographic variables and some social factors were evaluated by asking some questions. All the participants were ensured of the confidentiality of the collected data, and willingly completed the questionnaire. RESULTS: Among the participants, there were 629 women (68.2%) and 293 men (31.2%). The mean age of the participants was 36.98 ± 11.08 years old. Four hundred twenty-five subjects (46.1%) obtained GHQ-28 scores above the cut-off point, and accordingly, they were suspected of having poor mental health statuses. Women, in comparison to men (OR = 2.034, 95%:1.62–3.28), and individuals aged < 50 years old, in comparison to those aged > 50 years old (OR: 4.01 95%:2.15–7.50), have poorer mental health statuses. Trusting on media, health authorities, and cooperation with policy makers, as well as having uncertainty on information about Coronavirus pandemic were also shown to be associated with poor mental health condition (P < 0.05). CONCLUSION: The present study revealed that the number of those people with suspected poor mental health in Fars province significantly increased compared to a previous study using the same questionnaire. Furthermore, the participants who had less trust in media and policymakers were more prone to mental health problems. Therefore, it can be concluded that supporting people in these life-threatening pandemic crises is of great importance, so the policy makers and media must present reliable and valid information to people as soon as possible.\n"
     ]
    }
   ],
   "source": [
    "print(f\"Is 'Lymphocytotoxic in GloVe's keys: ' {'Lymphocytotoxic' in glove_dict.keys()}\")\n",
    "query = 'what does Lymphocytotoxic Antibodies?' #\n",
    "IR.retrive(query)"
   ],
   "metadata": {
    "collapsed": false
   }
  },
  {
   "cell_type": "markdown",
   "source": [
    "- Even 'Lymphocytotoxic' is not in Glove, we can see the IR system could still retrieve the relevant docs. From the output above, we can see the fist snippet contains the sentence of '...post-Covid DSA positive patients, whereas inflammatory markers, ***lymphopenia*** and use of antiviral therapies were not...'. We can see the article is talking about lymph, antibodies and immune system.  The reason why IR can still retrive this relevant document is text normalisation is done with the help of knowledge base (knowledge base contained all named entities and their associated other names, e.g, 'lymphopenia' could be an alias of its canonical name) So, even if 'Lymphocytotoxic' is not in glove, the system can still use the tfidf of the canonical name of 'lymphopenia' and 'Lymphocytotoxic'. However, the second article retrieved is not relevant, but this does not affect the MRR metric, because we already got what we are seeking for in the first rank. Therefore, the IR system passed this out-of-vocabulary test too."
   ],
   "metadata": {
    "collapsed": false
   }
  },
  {
   "cell_type": "markdown",
   "id": "333ba5cb",
   "metadata": {},
   "source": [
    "### 5. Test utility and test results"
   ]
  },
  {
   "cell_type": "markdown",
   "source": [
    "- In this section I am evaluating my IR system using a rank-aware evaluation metric, MRR (Mean Reciprocal Rank). The motivation of this metric is when user is looking at the ranked documents from top to bottom will become impatient and will stop once they found the desired document and do not care about the rest of the document. Therefore, MRR only cares about the position of the first relevant document. $$ MRR(Q) = \\frac{1}{|Q|} * \\sum_{q\\in{Q}} \\frac{1}{FirstRank(Q)}$$\n",
    "- Test set: I randomly sampled 10 documents as the ground truth, and given the abstract of a paper I asked ChatGPT to generate a query for this abstract. The prompt template used is \"I am going to give a piece of text, can you generate a question that the text I provided contains the corresponding answer? Here is the text: ...(this is the abstract)...\" <br>\n",
    "- For each retrieval session, I append the reciprocal rank to a list, and calculate the mean at the end."
   ],
   "metadata": {
    "collapsed": false
   }
  },
  {
   "cell_type": "code",
   "execution_count": 17,
   "outputs": [],
   "source": [
    "IR = Retriever_glove(inverted_index,glove_dict,KB,processed_df)"
   ],
   "metadata": {
    "collapsed": false
   }
  },
  {
   "cell_type": "code",
   "execution_count": 18,
   "outputs": [
    {
     "name": "stdout",
     "output_type": "stream",
     "text": [
      "Cyanobacteria are ubiquitous photosynthetic microorganisms considered as important contributors to the formation of Earth’s atmosphere and to the process of nitrogen fixation. However, they are also frequently associated with toxic blooms, named cyanobacterial harmful algal blooms (cyanoHABs). This paper reports on an unusual out-of-season cyanoHAB and its dynamics during the COVID-19 pandemic, in Lake Avernus, South Italy. Fast detection strategy (FDS) was used to assess this phenomenon, through the integration of satellite imagery and biomolecular investigation of the environmental samples. Data obtained unveiled a widespread Microcystis sp. bloom in February 2020 (i.e., winter season in Italy), which completely disappeared at the end of the following COVID-19 lockdown, when almost all urban activities were suspended. Due to potential harmfulness of cyanoHABs, crude extracts from the “winter bloom” were evaluated for their cytotoxicity in two different human cell lines, namely normal dermal fibroblasts (NHDF) and breast adenocarcinoma cells (MCF-7). The chloroform extract was shown to exert the highest cytotoxic activity, which has been correlated to the presence of cyanotoxins, i.e., microcystins, micropeptins, anabaenopeptins, and aeruginopeptins, detected by molecular networking analysis of liquid chromatography tandem mass spectrometry (LC-MS/MS) data.\n",
      "-------------------------------------------------\n",
      "A 29-year-old female presented to the emergency clinic with gradual visual disturbance in both eyes for 15 days duration, accompanied by bilateral tinnitus, and ocular pain that increased with ocular movements. One month prior to presentation, the patient had tested positive for severe acute respiratory syndrome coronavirus-2 but without complications. Visual acuity was 20/100 in the right eye and 20/300 in the left eye. Funduscopy demonstrated optic nerve swelling, radial nerve fiber striation disruption, and bilateral retinal folds. Optical coherence tomography showed serous (bacillary) retinal detachment and multifocal areas of hyper-reflective changes in the inner and outer plexiform layer with inner nuclear layer thickening and disruption of the interdigitation zone bilaterally. We present a case of incomplete Vogt-Koyanagi-Harada disease following COVID-19 infection.\n",
      "-------------------------------------------------\n",
      "There is a large assessment and treatment gap in child and adolescent mental health services, prominently so in low- and middle-income countries, where 90% of the world’s children live. There is an urgent need to find evidence-based interventions that can be implemented successfully in these low-resource contexts. This pre-pilot study aimed to explore the barriers and facilitators to implementation as well as overall feasibility of Parent–Child Interaction Therapy (PCIT) in South Africa. A reflective and consensus building workshop was used to gather South African PCIT therapist (N = 4) perspectives on barriers, facilitators, and next steps to implementation in that country. Caregiver participants (N = 7) receiving the intervention in South Africa for the first time were also recruited to gather information on overall feasibility. Facilitators for implementation, including its strong evidence base, manualisation, and training model were described. Barriers relating to sustainability and scalability were highlighted. Largely positive views on acceptability from caregiver participants also indicated the promise of PCIT as an intervention in South Africa. Pilot data on the efficacy of the treatment for participating families are a next step. These initial results are positive, though research on how implementation factors contribute to the longer-term successful dissemination of PCIT in complex, heterogeneous low-resource settings is required.\n",
      "-------------------------------------------------\n",
      "Many viruses alter intracellular calcium homeostasis. The rotavirus nonstructural protein 4 (NSP4), an endoplasmic reticulum (ER) transmembrane glycoprotein, increases intracellular levels of cytoplasmic Ca(2+) ([Ca(2+)]cyto) through a phospholipase C-independent pathway, which is required for virus replication and morphogenesis. However, the NSP4 domain and mechanism that increases [Ca(2+)]cyto are unknown. We identified an NSP4 domain (amino acids [aa] 47 to 90) that inserts into membranes and has structural characteristics of viroporins, a class of small hydrophobic viral proteins that disrupt membrane integrity and ion homeostasis to facilitate virus entry, assembly, or release. Mutational analysis showed that NSP4 viroporin activity was mediated by an amphipathic α-helical domain downstream of a conserved lysine cluster. The lysine cluster directed integral membrane insertion of the viroporin domain and was critical for viroporin activity. In epithelial cells, expression of wild-type NSP4 increased the levels of free cytoplasmic Ca(2+) by 3.7-fold, but NSP4 viroporin mutants maintained low levels of [Ca(2+)]cyto, were retained in the ER, and failed to form cytoplasmic vesicular structures, called puncta, which surround viral replication and assembly sites in rotavirus-infected cells. When [Ca(2+)]cyto was increased pharmacologically with thapsigargin, viroporin mutants formed puncta, showing that elevation of calcium levels and puncta formation are distinct functions of NSP4 and indicating that NSP4 directly or indirectly responds to elevated cytoplasmic calcium levels. NSP4 viroporin activity establishes the mechanism for NSP4-mediated elevation of [Ca(2+)]cyto, a critical event that regulates rotavirus replication and virion assembly.\n",
      "-------------------------------------------------\n",
      "High income countries (HIC) have set the initial global policy responses to COVID-19. Yet, low and middle income countries (LIMIC) face very different challenges than HIC. In LMIC, there is a far greater emphasis on community solutions; families live in far more dense communities, making shelter-in-place mandates questionable; and strengthening existing health systems is more important than novel services. LMIC have far fewer economic resources. Most distressing, the successful economic commitments that HIC made to help stop HIV in LMIC have not yet been imitated, or even initiated—this support is needed now to fight COVID-19.\n",
      "-------------------------------------------------\n",
      "Artemisia annua is a medicinal plant particularly known for the production of a sesquiterpene lactone artemisinin; a specialty metabolite known for its efficacy in the treatment of malaria by killing different strains of Plasmodium falciparum due to radicals released upon the cleavage of its endoperoxide motif. Considering these facts and the immense medicinal value of artemisinin, the enhancement of in planta production of artemisinin is highly desirable. As strigolactones are known to regulate various aspects of plant growth and development, the effects of foliar spray of different concentrations of synthetic strigolactone analog GR24 (0, 0.5, 1, 2, 4, and 8 µM) on A. annua were studied. As compared to the control group, the foliar application of GR24 had a positive impact on general growth, photosynthesis, and other physiological indices with 4 µM GR24 showing the best results. The results indicate that GR24 application increased the plant biomass and various attributes related to photosynthesis, like total chlorophyll content, chlorophyll fluorescence, stomatal conductance, internal CO(2,) and net photosynthetic rate. Moreover, the activity of various enzymes related to photosynthesis like carbonic anhydrase, nitrate reductase, and RuBisCO was escalated. The GR24 also improved certain attributes related to glandular trichomes, with a significant enhancement in content and yield of artemisinin as compared to untreated plants.\n",
      "-------------------------------------------------\n",
      "Serological testing to evaluate antigen-specific antibodies in plasma is generally performed by rapid lateral flow test strips that lack quantitative results or by high complexity immunoassays that are time- and labor-intensive but provide semi-quantitative results. Here, we describe a novel application of biolayer interferometry for the rapid detection of antigen-specific antibody levels in plasma samples, and demonstrate its utility for quantification of SARS-CoV-2 antibodies. Our biolayer interferometry immunosorbent assay (BLI-ISA) utilizes single-use biosensors in an automated “dip-and-read” format, providing real-time optical measurements of antigen loading, plasma antibody binding, and antibody isotype detection. Complete semi-quantitative results are obtained in less than 20 min. BLI-ISA meets or exceeds the performance of high complexity methods such as Enzyme-Linked Immunosorbent Assay (ELISA) and Chemiluminescent Immunoassay. Importantly, our method can be immediately implemented on existing BLI platforms for urgent COVID-19 studies, such as serosurveillance and the evaluation of vaccine candidates. In a broader sense, BLI-ISA can be developed as a novel diagnostic platform to evaluate antibodies and other biomolecules in clinical specimens.\n",
      "-------------------------------------------------\n",
      "Coronavirus disease 2019 (COVID-19), the respiratory illness caused by the novel virus, severe acute respiratory syndrome coronavirus 2 (SARS-CoV-2), which has lead to high morbidity and mortality rates worldwide, has been causing major public health concerns since first detected in late 2019. Following identification of novel pathogens, questions in relation to dissemination of the pathogen and transmission routes begin to emerge. This rapidly spreading SARS-CoV-2 virus has been detected in both faecal and wastewater samples across the globe, highlighting the potential for faecal-oral transmission of the virus. As a result, concerns regarding the transmission of the virus in the environment and the risk associated with contracting the virus in recreational waters, particularly where inadequately treated wastewater is discharged, have been emerging in recent weeks. This paper highlights the need for further research to be carried out to investigate the presence, infectivity and viability of this newly identified SARS-CoV-2 virus in wastewater effluent and receiving recreational waters.\n",
      "-------------------------------------------------\n",
      "MS is an immune mediated disease of the central nervous system (CNS) characterized by demyelination, axonal damage and neurologic disability. The primary cause of this CNS disease remains elusive. Here we will address our current understanding of the role of viruses as potential environmental triggers for MS. Virus infections can act peripherally (outside the CNS) or within the CNS. The association of viral infections with demyelinating disease, in both animals and humans, will be discussed, as will the potential contributions of peripheral infection with Torque Teno virus, infection outside of and/or within the CNS with Epstein-Barr virus and infection within the CNS with Human Herpesvirus 6 to MS. An experimental animal model, Theiler’s murine encephalomyelitis virus infection of susceptible strains of mice is an example of viral infections of the CNS as a prerequisite for demyelination. Finally, the proposition that multiple virus infections, which first prime the immune system and then trigger the disease, as a model where infections outside of the CNS lead to inflammatory changes within the CNS, are required for the development of a MS-like disease is explored.\n",
      "-------------------------------------------------\n",
      "Pandemic literature (and there is a sprawling canon of it) tells us much about the past so that we can learn for our future, but we have been poor students. We should have been better prepared for Covid-19, and even merely scratching the surface of pandemic literature by examining Albert Camus’s The Plague and Phillip Roth’s Nemesis is very revealing. Despite the remarkable heterogeneity of our world, there are some things about disease that are shared globally, and many things that are recorded in literature are pertinent to the current pandemic situation. Remembering past pandemics is vital to dealing with future ones. This article argues that documentation of pandemics offers important reminders of epidemiology but also about how race, class, gender, and sexuality are involved both in the representation and in the movement of disease. Fiction gives us the chance to revise our thinking both about our relationship with microbes and about how we imagine a balance between individual liberties and social responsibility. These matters seemed to many of us entirely novel concerns brought out by the novel coronavirus. In reality, they are not novel and have long been the concerns of pandemic literature. There are great dangers in forgetting this.\n",
      "-------------------------------------------------\n"
     ]
    }
   ],
   "source": [
    "import random\n",
    "random.seed(10)\n",
    "test_size = 10\n",
    "labels = random.sample([i for i in range(0,10000)], test_size)\n",
    "for id in labels:\n",
    "    abstract = processed_df.loc[processed_df['paper_id']==id]['original_abstract'].values[0]\n",
    "    print(abstract)\n",
    "    print('-------------------------------------------------')"
   ],
   "metadata": {
    "collapsed": false
   }
  },
  {
   "cell_type": "code",
   "execution_count": 19,
   "outputs": [],
   "source": [
    "# The corresponding queries are generated by ChatGPT, and copied here one by one in a list.\n",
    "queries = [\n",
    "    'What is the potential harm associated with cyanobacterial harmful algal blooms, and how was an unusual out-of-season cyanoHAB detected and studied in Lake Avernus, South Italy during the COVID-19 pandemic?',\n",
    "    'What are the symptoms and diagnostic findings of incomplete Vogt-Koyanagi-Harada disease in a 29-year-old female who had tested positive for COVID-19?',\n",
    "    'What is the purpose of the pre-pilot study conducted in South Africa on Parent-Child Interaction Therapy (PCIT), and what were the perspectives of the therapists and caregivers on the barriers and facilitators to its implementation in that country?',\n",
    "    'What is the mechanism by which the rotavirus nonstructural protein 4 (NSP4) increases intracellular calcium levels, and what is the role of this mechanism in rotavirus replication and virion assembly?',\n",
    "    'What are some of the challenges faced by low and middle income countries in responding to COVID-19 compared to high income countries?',\n",
    "    'What was the impact of foliar spray of synthetic strigolactone analog GR24 on the growth, photosynthesis, and artemisinin production of Artemisia annua?',\n",
    "    'What is the biolayer interferometry immunosorbent assay (BLI-ISA) and how does it compare to other methods for quantifying antigen-specific antibodies in plasma, specifically for SARS-CoV-2 antibodies?',\n",
    "    'What is the potential for faecal-oral transmission of the SARS-CoV-2 virus, and what are the concerns regarding the transmission of the virus in the environment, particularly in recreational waters?',\n",
    "    'What is the current understanding of the role of viruses in triggering multiple sclerosis?',\n",
    "    'What is the significance of pandemic literature in relation to Covid-19, and how does it provide important reminders about epidemiology, as well as the involvement of race, class, gender, and sexuality in the representation and movement of disease?'\n",
    "]"
   ],
   "metadata": {
    "collapsed": false
   }
  },
  {
   "cell_type": "code",
   "execution_count": 20,
   "outputs": [
    {
     "data": {
      "text/plain": "0.34395569681095733"
     },
     "execution_count": 20,
     "metadata": {},
     "output_type": "execute_result"
    }
   ],
   "source": [
    "IR.eval(queries,labels)"
   ],
   "metadata": {
    "collapsed": false
   }
  },
  {
   "cell_type": "code",
   "execution_count": 21,
   "outputs": [
    {
     "name": "stdout",
     "output_type": "stream",
     "text": [
      "Query 1: \n",
      " What is the potential harm associated with cyanobacterial harmful algal blooms, and how was an unusual out-of-season cyanoHAB detected and studied in Lake Avernus, South Italy during the COVID-19 pandemic? \n",
      "\n",
      "------------------------------ Match Ranked 1 (similarity score: 0.6150159343588031)------------------------------\n",
      "article identifier: PMC7719730,  article number: 2223 \n",
      "\n",
      "title:  Mental health status during COVID-19 pandemic in Fars Province, Iran: timely measures \n",
      "\n",
      "Authors: \n",
      "Mani, Arash; Estedlal, Ali Reza; Kamali, Mahsa; Ghaemi, Seyede Zahra; Zarei, Leila; Shokrpour, Nasrin; Heydari, Seyed Taghi; Lankarani, Kamran Bagheri \n",
      "\n",
      "snippet: \n",
      "\n",
      "BACKGROUND: The current corona virus pandemic is acting as a stressor or trauma, which not only threats physical health status, but also threats mental health status and well-being of people. Currently, COVID-19 pandemic is a life-threatening unpredictable condition accompanied with a large number of uncertainties. The present study has mainly aimed to assess mental health and the relevant social factors during this pandemic in Fars province. METHODS: This cross-sectional study was performed on 922 participants in Fars province, Iran, using internet-based data collection technique. All the included participants filled out the General Health Questionnaire (GHQ-28). Moreover, demographic variables and some social factors were evaluated by asking some questions. All the participants were ensured of the confidentiality of the collected data, and willingly completed the questionnaire. RESULTS: Among the participants, there were 629 women (68.2%) and 293 men (31.2%). The mean age of the participants was 36.98 ± 11.08 years old. Four hundred twenty-five subjects (46.1%) obtained GHQ-28 scores above the cut-off point, and accordingly, they were suspected of having poor mental health statuses. Women, in comparison to men (OR = 2.034, 95%:1.62–3.28), and individuals aged < 50 years old, in comparison to those aged > 50 years old (OR: 4.01 95%:2.15–7.50), have poorer mental health statuses. Trusting on media, health authorities, and cooperation with policy makers, as well as having uncertainty on information about Coronavirus pandemic were also shown to be associated with poor mental health condition (P < 0.05). CONCLUSION: The present study revealed that the number of those people with suspected poor mental health in Fars province significantly increased compared to a previous study using the same questionnaire. Furthermore, the participants who had less trust in media and policymakers were more prone to mental health problems. Therefore, it can be concluded that supporting people in these life-threatening pandemic crises is of great importance, so the policy makers and media must present reliable and valid information to people as soon as possible.\n",
      "\n",
      "\n",
      "------------------------------ Match Ranked 2 (similarity score: 0.548139741235655)------------------------------\n",
      "article identifier: PMC7579365,  article number: 2177 \n",
      "\n",
      "title:  Is It High Time to Increase Elite Soccer Substitutions Permanently? \n",
      "\n",
      "Authors: \n",
      "Mota, Gustavo R.; dos Santos, Izabela Aparecida; Arriel, Rhaí André; Marocolo, Moacir \n",
      "\n",
      "snippet: \n",
      "\n",
      "Rules determine how team sport matches occur. Match-induced fatigue is specific to each sport, and may be associated with injury incidence. For example, the injury rate in soccer is distinctly higher during matches than in training sessions. Understanding the differences between team sports rules might be useful for enhancing rules (e.g., safer sport). Therefore, this study aimed to evaluate the impact of the rule-induced physical demands between soccer, futsal, basketball, and handball, focusing on substitution rules. Data from the elite team sports’ rules (e.g., absolute and relative court dimensions; the number of players, substitutions allowed, total game time, time-outs) were collected, including the changes due to the coronavirus disease (COVID-19) pandemic in soccer substitutions, and comparisons were performed. The data showed that soccer has higher rule-induced physical demands: e.g., substantially lower substitution rate, higher dimensions in absolute (eight to fifteen times), and relative (four to eight times) values. Simulations also showed that soccer has extremely large differences, even considering COVID-19 substitution changes (from three to up to five). We conclude that elite soccer has remarkably higher overall rule-induced physical demands than elite futsal, basketball and handball, and increasing soccer substitutions permanently (e.g., unlimited) might mitigate overall soccer demands.\n",
      "\n",
      "\n",
      "------------------------------ Match Ranked 3 (similarity score: 0.5210195921952403)------------------------------\n",
      "article identifier: PMC8310267,  article number: 9361 \n",
      "\n",
      "title:  Monitoring Cyanobacterial Blooms during the COVID-19 Pandemic in Campania, Italy: The Case of Lake Avernus \n",
      "\n",
      "Authors: \n",
      "Teta, Roberta; Sala, Gerardo Della; Esposito, Germana; Stornaiuolo, Mariano; Scarpato, Silvia; Casazza, Marco; Anastasio, Aniello; Lega, Massimiliano; Costantino, Valeria \n",
      "\n",
      "snippet: \n",
      "\n",
      "Cyanobacteria are ubiquitous photosynthetic microorganisms considered as important contributors to the formation of Earth’s atmosphere and to the process of nitrogen fixation. However, they are also frequently associated with toxic blooms, named cyanobacterial harmful algal blooms (cyanoHABs). This paper reports on an unusual out-of-season cyanoHAB and its dynamics during the COVID-19 pandemic, in Lake Avernus, South Italy. Fast detection strategy (FDS) was used to assess this phenomenon, through the integration of satellite imagery and biomolecular investigation of the environmental samples. Data obtained unveiled a widespread Microcystis sp. bloom in February 2020 (i.e., winter season in Italy), which completely disappeared at the end of the following COVID-19 lockdown, when almost all urban activities were suspended. Due to potential harmfulness of cyanoHABs, crude extracts from the “winter bloom” were evaluated for their cytotoxicity in two different human cell lines, namely normal dermal fibroblasts (NHDF) and breast adenocarcinoma cells (MCF-7). The chloroform extract was shown to exert the highest cytotoxic activity, which has been correlated to the presence of cyanotoxins, i.e., microcystins, micropeptins, anabaenopeptins, and aeruginopeptins, detected by molecular networking analysis of liquid chromatography tandem mass spectrometry (LC-MS/MS) data.\n",
      "***************************************************************************************************************\n",
      "Query 2: \n",
      " What are the symptoms and diagnostic findings of incomplete Vogt-Koyanagi-Harada disease in a 29-year-old female who had tested positive for COVID-19? \n",
      "\n",
      "------------------------------ Match Ranked 1 (similarity score: 0.8224311834757871)------------------------------\n",
      "article identifier: PMC8525290,  article number: 533 \n",
      "\n",
      "title:  Vogt-Koyanagi-Harada Disease Following COVID-19 Infection \n",
      "\n",
      "Authors: \n",
      "Yepez, Juan B.; Murati, Felipe A.; Petitto, Michele; De Yepez, Jazmin; Galue, Jose M.; Revilla, Julio; Petitto, Alfonso; Vinardell, Susana; Arevalo, J. Fernando \n",
      "\n",
      "snippet: \n",
      "\n",
      "A 29-year-old female presented to the emergency clinic with gradual visual disturbance in both eyes for 15 days duration, accompanied by bilateral tinnitus, and ocular pain that increased with ocular movements. One month prior to presentation, the patient had tested positive for severe acute respiratory syndrome coronavirus-2 but without complications. Visual acuity was 20/100 in the right eye and 20/300 in the left eye. Funduscopy demonstrated optic nerve swelling, radial nerve fiber striation disruption, and bilateral retinal folds. Optical coherence tomography showed serous (bacillary) retinal detachment and multifocal areas of hyper-reflective changes in the inner and outer plexiform layer with inner nuclear layer thickening and disruption of the interdigitation zone bilaterally. We present a case of incomplete Vogt-Koyanagi-Harada disease following COVID-19 infection.\n",
      "\n",
      "\n",
      "------------------------------ Match Ranked 2 (similarity score: 0.71807445019893)------------------------------\n",
      "article identifier: PMC8953992,  article number: 5631 \n",
      "\n",
      "title:  Ocular Adverse Events after Inactivated COVID-19 Vaccination in Xiamen \n",
      "\n",
      "Authors: \n",
      "Chen, Xiuju; Li, Xiaoxin; Li, Haibo; Li, Minghan; Gong, Songjian \n",
      "\n",
      "snippet: \n",
      "\n",
      "Aims: To report potential vaccine-induced ocular adverse events following inactivated COVID-19 vaccination (Sinopharm and Sinovac). Methods: This case series took place at a tertiary referral center in the southeast of China (Xiamen Eye Center in Fujian Province) from February 2021 to July 2021. Patients who received the first dose of inactivated COVID-19 vaccine and developed vaccine-related ocular adverse events within 10 days were included. The diagnosis of vaccine-related ocular adverse events was guided by the World Health Organization causality assessment and the Naranjo criteria. Results: Ten eyes of seven patients (two male individuals) presenting with ocular complaints following COVID-19 vaccine were included in the study. The mean (SD) age was 41.4 (9.3) years (range, 30–55 years). The mean time of ocular adverse event manifestations was 4.9 days (range, 1–10 days). Three patients were diagnosed with Vogt–Koyanagi–Harada (VKH)-like uveitis, one with multifocal choroiditis, one with episcleritis, one with iritis, and one with acute idiopathic maculopathy. Two patients received the second dose of vaccine. One patient had exacerbation of VKH, and one patient had no symptoms. An aqueous humor analysis in three patients revealed elevated proinflammatory cytokines and negative virus copy. All the patients had transient ocular disturbance and responded well to steroids. No recurrence was noted during 6 months of follow-up. Conclusions: Potential ocular adverse events should be reported to increase the awareness of the health community for timely detection and proper treatment.\n",
      "\n",
      "\n",
      "------------------------------ Match Ranked 3 (similarity score: 0.6768480750736876)------------------------------\n",
      "article identifier: PMC7719730,  article number: 2223 \n",
      "\n",
      "title:  Mental health status during COVID-19 pandemic in Fars Province, Iran: timely measures \n",
      "\n",
      "Authors: \n",
      "Mani, Arash; Estedlal, Ali Reza; Kamali, Mahsa; Ghaemi, Seyede Zahra; Zarei, Leila; Shokrpour, Nasrin; Heydari, Seyed Taghi; Lankarani, Kamran Bagheri \n",
      "\n",
      "snippet: \n",
      "\n",
      "BACKGROUND: The current corona virus pandemic is acting as a stressor or trauma, which not only threats physical health status, but also threats mental health status and well-being of people. Currently, COVID-19 pandemic is a life-threatening unpredictable condition accompanied with a large number of uncertainties. The present study has mainly aimed to assess mental health and the relevant social factors during this pandemic in Fars province. METHODS: This cross-sectional study was performed on 922 participants in Fars province, Iran, using internet-based data collection technique. All the included participants filled out the General Health Questionnaire (GHQ-28). Moreover, demographic variables and some social factors were evaluated by asking some questions. All the participants were ensured of the confidentiality of the collected data, and willingly completed the questionnaire. RESULTS: Among the participants, there were 629 women (68.2%) and 293 men (31.2%). The mean age of the participants was 36.98 ± 11.08 years old. Four hundred twenty-five subjects (46.1%) obtained GHQ-28 scores above the cut-off point, and accordingly, they were suspected of having poor mental health statuses. Women, in comparison to men (OR = 2.034, 95%:1.62–3.28), and individuals aged < 50 years old, in comparison to those aged > 50 years old (OR: 4.01 95%:2.15–7.50), have poorer mental health statuses. Trusting on media, health authorities, and cooperation with policy makers, as well as having uncertainty on information about Coronavirus pandemic were also shown to be associated with poor mental health condition (P < 0.05). CONCLUSION: The present study revealed that the number of those people with suspected poor mental health in Fars province significantly increased compared to a previous study using the same questionnaire. Furthermore, the participants who had less trust in media and policymakers were more prone to mental health problems. Therefore, it can be concluded that supporting people in these life-threatening pandemic crises is of great importance, so the policy makers and media must present reliable and valid information to people as soon as possible.\n",
      "***************************************************************************************************************\n",
      "Query 3: \n",
      " What is the purpose of the pre-pilot study conducted in South Africa on Parent-Child Interaction Therapy (PCIT), and what were the perspectives of the therapists and caregivers on the barriers and facilitators to its implementation in that country? \n",
      "\n",
      "------------------------------ Match Ranked 1 (similarity score: 0.7779317875393325)------------------------------\n",
      "article identifier: PMC9058747,  article number: 8332 \n",
      "\n",
      "title:  Caregiver Satisfaction with Delivery of Telehealth Autism Services \n",
      "\n",
      "Authors: \n",
      "Pompa-Craven, Paula; Tierman, Emily; Martino, Joelle; Lotfizadeh, Amin D. \n",
      "\n",
      "snippet: \n",
      "\n",
      "OBJECTIVE: The purpose of this study was to assess satisfaction with telehealth interventions for a large nonprofit organization that transitioned interventions for individuals with autism spectrum disorder (ASD) to telehealth during a pandemic. Services provided via telehealth included applied behavior analysis (ABA), speech and language, and occupational therapies. A secondary survey evaluated reasons for declining telehealth services. METHODS: A survey was administered to 10,567 families who were receiving autism interventions. A total of 440 respondents answered all the questions on the survey, and their results were included in this study. A secondary survey was administered to 223 individuals who declined to have telehealth autism interventions. RESULTS: There was not a clinically meaningful difference in satisfaction across service types. Although all ratings were in the high range, caregivers ranked speech therapists as more dependable than ABA therapists, and this difference was statistically significant. The findings suggested that the majority of caregivers were generally satisfied with services provided in a telehealth format. For those who declined services, the majority indicated a discomfort with the use of technology. CONCLUSIONS: The participants of telehealth autism interventions reported high general satisfaction and indicated an improvement in their quality of life. Results provide suggestive evidence that increased satisfaction of telehealth services may allow for further acceptability and access for participants. Future research should evaluate participant and clinician satisfaction with telehealth versus in-person interventions.\n",
      "\n",
      "\n",
      "------------------------------ Match Ranked 2 (similarity score: 0.7051703316599283)------------------------------\n",
      "article identifier: PMC7280562,  article number: 137 \n",
      "\n",
      "title:  Digital technology can revolutionize mental health services delivery: The COVID‐19 crisis as a catalyst for change \n",
      "\n",
      "Authors: \n",
      "Taylor, C. Barr; Fitzsimmons‐Craft, Ellen E.; Graham, Andrea K. \n",
      "\n",
      "snippet: \n",
      "\n",
      "The unprecedented COVID‐19 crisis presents an imperative for mental health care systems to make digital mental health interventions a routine part of care. Already because of COVID‐19, many therapists have rapidly moved to using telehealth in place of in‐person contact. In response to this shift, Waller and colleagues compiled a series of expert recommendations to help clinicians pivot to delivering teletherapy to address eating disorders during COVID‐19. However, numerous barriers still impede widespread adoption and implementation of digital interventions. In this commentary, we aim to extend the recommendations for clinicians offered by Waller and colleagues by presenting a roadmap of the systems‐ and policy‐level requirements that are needed. We advocate for addressing barriers associated with training, licensing, safety, privacy, payment, and evaluation, as these factors have greatly limited use of these promising interventions. We also indicate that longer‐term goals should include introducing truly innovative digital mental health practices, such as stepped‐care models and simultaneously providing preventive and self‐management services in addition to clinical services, into the health care system. Now is the time to catalyze change and comprehensively address the barriers that have prevented widespread delivery of these efficacious digital services to the millions of people who would benefit.\n",
      "\n",
      "\n",
      "------------------------------ Match Ranked 3 (similarity score: 0.7042593908600988)------------------------------\n",
      "article identifier: PMC7719730,  article number: 2223 \n",
      "\n",
      "title:  Mental health status during COVID-19 pandemic in Fars Province, Iran: timely measures \n",
      "\n",
      "Authors: \n",
      "Mani, Arash; Estedlal, Ali Reza; Kamali, Mahsa; Ghaemi, Seyede Zahra; Zarei, Leila; Shokrpour, Nasrin; Heydari, Seyed Taghi; Lankarani, Kamran Bagheri \n",
      "\n",
      "snippet: \n",
      "\n",
      "BACKGROUND: The current corona virus pandemic is acting as a stressor or trauma, which not only threats physical health status, but also threats mental health status and well-being of people. Currently, COVID-19 pandemic is a life-threatening unpredictable condition accompanied with a large number of uncertainties. The present study has mainly aimed to assess mental health and the relevant social factors during this pandemic in Fars province. METHODS: This cross-sectional study was performed on 922 participants in Fars province, Iran, using internet-based data collection technique. All the included participants filled out the General Health Questionnaire (GHQ-28). Moreover, demographic variables and some social factors were evaluated by asking some questions. All the participants were ensured of the confidentiality of the collected data, and willingly completed the questionnaire. RESULTS: Among the participants, there were 629 women (68.2%) and 293 men (31.2%). The mean age of the participants was 36.98 ± 11.08 years old. Four hundred twenty-five subjects (46.1%) obtained GHQ-28 scores above the cut-off point, and accordingly, they were suspected of having poor mental health statuses. Women, in comparison to men (OR = 2.034, 95%:1.62–3.28), and individuals aged < 50 years old, in comparison to those aged > 50 years old (OR: 4.01 95%:2.15–7.50), have poorer mental health statuses. Trusting on media, health authorities, and cooperation with policy makers, as well as having uncertainty on information about Coronavirus pandemic were also shown to be associated with poor mental health condition (P < 0.05). CONCLUSION: The present study revealed that the number of those people with suspected poor mental health in Fars province significantly increased compared to a previous study using the same questionnaire. Furthermore, the participants who had less trust in media and policymakers were more prone to mental health problems. Therefore, it can be concluded that supporting people in these life-threatening pandemic crises is of great importance, so the policy makers and media must present reliable and valid information to people as soon as possible.\n",
      "***************************************************************************************************************\n",
      "Query 4: \n",
      " What is the mechanism by which the rotavirus nonstructural protein 4 (NSP4) increases intracellular calcium levels, and what is the role of this mechanism in rotavirus replication and virion assembly? \n",
      "\n",
      "------------------------------ Match Ranked 1 (similarity score: 0.8935990660309812)------------------------------\n",
      "article identifier: PMC2999940,  article number: 7906 \n",
      "\n",
      "title:  Rotavirus Disrupts Calcium Homeostasis by NSP4 Viroporin Activity \n",
      "\n",
      "Authors: \n",
      "Hyser, Joseph M.; Collinson-Pautz, Matthew R.; Utama, Budi; Estes, Mary K. \n",
      "\n",
      "snippet: \n",
      "\n",
      "Many viruses alter intracellular calcium homeostasis. The rotavirus nonstructural protein 4 (NSP4), an endoplasmic reticulum (ER) transmembrane glycoprotein, increases intracellular levels of cytoplasmic Ca(2+) ([Ca(2+)]cyto) through a phospholipase C-independent pathway, which is required for virus replication and morphogenesis. However, the NSP4 domain and mechanism that increases [Ca(2+)]cyto are unknown. We identified an NSP4 domain (amino acids [aa] 47 to 90) that inserts into membranes and has structural characteristics of viroporins, a class of small hydrophobic viral proteins that disrupt membrane integrity and ion homeostasis to facilitate virus entry, assembly, or release. Mutational analysis showed that NSP4 viroporin activity was mediated by an amphipathic α-helical domain downstream of a conserved lysine cluster. The lysine cluster directed integral membrane insertion of the viroporin domain and was critical for viroporin activity. In epithelial cells, expression of wild-type NSP4 increased the levels of free cytoplasmic Ca(2+) by 3.7-fold, but NSP4 viroporin mutants maintained low levels of [Ca(2+)]cyto, were retained in the ER, and failed to form cytoplasmic vesicular structures, called puncta, which surround viral replication and assembly sites in rotavirus-infected cells. When [Ca(2+)]cyto was increased pharmacologically with thapsigargin, viroporin mutants formed puncta, showing that elevation of calcium levels and puncta formation are distinct functions of NSP4 and indicating that NSP4 directly or indirectly responds to elevated cytoplasmic calcium levels. NSP4 viroporin activity establishes the mechanism for NSP4-mediated elevation of [Ca(2+)]cyto, a critical event that regulates rotavirus replication and virion assembly.\n",
      "\n",
      "\n",
      "------------------------------ Match Ranked 2 (similarity score: 0.8312505049786735)------------------------------\n",
      "article identifier: PMC7097103,  article number: 8919 \n",
      "\n",
      "title:  Viral apoptotic mimicry \n",
      "\n",
      "Authors: \n",
      "Amara, Ali; Mercer, Jason \n",
      "\n",
      "snippet: \n",
      "\n",
      "As opportunistic pathogens, viruses have evolved many elegant strategies to manipulate host cells for infectious entry and replication. Viral apoptotic mimicry, defined by the exposure of phosphatidylserine — a marker for apoptosis — on the pathogen surface, is emerging as a common theme used by enveloped viruses to promote infection. Focusing on the four best described examples (vaccinia virus, dengue virus, Ebola virus and pseudotyped lentivirus), we summarize our current understanding of apoptotic mimicry as a mechanism for virus entry, binding and immune evasion. We also describe recent examples of non-enveloped viruses that use this mimicry strategy, and discuss future directions and how viral apoptotic mimicry could be targeted therapeutically. SUPPLEMENTARY INFORMATION: The online version of this article (doi:10.1038/nrmicro3469) contains supplementary material, which is available to authorized users.\n",
      "\n",
      "\n",
      "------------------------------ Match Ranked 3 (similarity score: 0.7602346781696756)------------------------------\n",
      "article identifier: PMC8154193,  article number: 3063 \n",
      "\n",
      "title:  A tale of two extremities: A dynamic case of Covid-19 induced hypokalemia and bradycardia leading into Torsade's de pointes \n",
      "\n",
      "Authors: \n",
      "Navid Siddiqui, Saquib; Memon, Muhammad; Tshering, Sonam; Hasan, Tanveer; Jawed, Asheer; Kumar Jha, Pranav; Jayasekhar, Roland \n",
      "\n",
      "snippet: \n",
      "\n",
      "INTRODUCTION: As researchers and academics around the world scramble ahead to dissect and analyse every aspect of the SARS-CoV2 virus, one such study explored the various underlying electrolyte abnormalities that were precipitated in patients suffering from a confirmed COVID-19 infection. A significant proportion of such patients were noted to be hypokalemic. Hypokalemia can be life threatening as it is known to cause cardiac arrhythmia. CASE PRESENTATION: Our encounter with said presentation was incidental. The on-call medical team was involved in a cardiac arrest call for a 74-year -old gentleman who developed torsades de pointes, Retrospective analysis of the clinical picture pointed out the fact that he was found to be persistently hypokalemic and bradycardic solely triggered as a result of COVID-19. CONCLUSION: Although initially thought to be a pulmonary disease but along with time extra-pulmonary manifestations of Covid-19 has demonstrated significant consequences. Electrolyte abnormalities and cardiac dysfunction are examples of such extra-pulmonary pathologies. Therefore, it is important to keep close monitoring for such abnormalities otherwise could lead into life threatening arrythmias.\n",
      "***************************************************************************************************************\n",
      "Query 5: \n",
      " What are some of the challenges faced by low and middle income countries in responding to COVID-19 compared to high income countries? \n",
      "\n",
      "------------------------------ Match Ranked 1 (similarity score: 0.7639197693518859)------------------------------\n",
      "article identifier: PMC7487143,  article number: 1995 \n",
      "\n",
      "title:  Nordic Bioeconomy Pathways: Future narratives for assessment of water-related ecosystem services in agricultural and forest management \n",
      "\n",
      "Authors: \n",
      "Rakovic, Jelena; Futter, Martyn N.; Kyllmar, Katarina; Rankinen, Katri; Stutter, Marc I.; Vermaat, Jan; Collentine, Dennis \n",
      "\n",
      "snippet: \n",
      "\n",
      "Further development of the bioeconomy, the substitution of bioresources for fossil resources, will lead to an increased pressure on land and water resources in both agriculture and forestry. It is important to study whether resultant changes in land management may in turn lead to impairment of water services. This paper describes the Nordic Bioeconomy Pathways (NBPs), a set of regional sectoral storylines nested within the global Shared Socioeconomic Pathways (SSP) framework developed to provide the BIOWATER research program with land management scenarios for projecting future developments to explore possible conflicts between land management changes and the Water Framework Directive (WFD). The NBPs are a set of narrative storylines capturing a range of plausible future trajectories for the Nordic bioeconomy until 2050 and that are fit for use within hydrological catchment modelling, ecosystem service studies and stakeholder dialogue about possible changes in agricultural and forestry management practices.\n",
      "\n",
      "\n",
      "------------------------------ Match Ranked 2 (similarity score: 0.5802146843162119)------------------------------\n",
      "article identifier: PMC4103063,  article number: 8728 \n",
      "\n",
      "title:  Excessive production and extreme editing of human metapneumovirus defective interfering RNA is associated with type I IFN induction \n",
      "\n",
      "Authors: \n",
      "van den Hoogen, Bernadette G.; van Boheemen, Sander; de Rijck, Jonneke; van Nieuwkoop, Stefan; Smith, Derek J.; Laksono, Brigitta; Gultyaev, Alexander; Osterhaus, Albert D. M. E.; Fouchier, Ron A. M. \n",
      "\n",
      "snippet: \n",
      "\n",
      "Type I IFN production is one of the hallmarks of host innate immune responses upon virus infection. Whilst most respiratory viruses carry IFN antagonists, reports on human metapneumovirus (HMPV) have been conflicting. Using deep sequencing, we have demonstrated that HMPV particles accumulate excessive amounts of defective interfering RNA (DIs) rapidly upon in vitro passage, and that these are associated with IFN induction. Importantly, the DIs were edited extensively; up to 70 % of the original A and T residues had mutated to G or C, respectively. Such high editing rates of viral RNA have not, to our knowledge, been reported before. Bioinformatics and PCR assays indicated that adenosine deaminase acting on RNA (ADAR) was the most likely editing enzyme. HMPV thus has an unusually high propensity to generate DIs, which are edited at an unprecedented high frequency. The conflicting published data on HMPV IFN induction and antagonism are probably explained by DIs in virus stocks. The interaction of HMPV DIs with the RNA-editing machinery and IFN responses warrants further investigation.\n",
      "\n",
      "\n",
      "------------------------------ Match Ranked 3 (similarity score: 0.5109668761364307)------------------------------\n",
      "article identifier: PMC8744037,  article number: 3213 \n",
      "\n",
      "title:  Small businesses and their challenges during COVID-19 pandemic in developing countries: in the case of Ethiopia \n",
      "\n",
      "Authors: \n",
      "Engidaw, Abriham Ebabu \n",
      "\n",
      "snippet: \n",
      "\n",
      "Mainly this study was aimed at demonstrating the challenges of small businesses during the corona virus pandemic in developing countries, specifically in Ethiopia. Methodologically, the study deployed secondary data analysis following a descriptive research design. Furthermore, this study was conducted through both qualitative and quantitative research approaches. The secondary data analysis result shows that many small and large businesses are suffering challenges and this unprecedented coronavirus crisis has caused destruction for many businesses in the globe and it is challenging to survive with reduced revenue, jobs lost and life slowing down and weak marketing performance even difficult to keep a calm head and their business alive. To support these businesses, the government should use different mechanisms by cooperating with wealthy peoples and other non-governmental organizations. Besides, small business owners should manage expectations and communicate with staff, suppliers, banks, and customers throughout this coronavirus frightening. Reduce expenses be open to their employees about their finances and keep marketing, use different alternatives to deliver their product, and recover from the crisis. SUPPLEMENTARY INFORMATION: The online version contains supplementary material available at 10.1186/s13731-021-00191-3.\n",
      "***************************************************************************************************************\n",
      "Query 6: \n",
      " What was the impact of foliar spray of synthetic strigolactone analog GR24 on the growth, photosynthesis, and artemisinin production of Artemisia annua? \n",
      "\n",
      "------------------------------ Match Ranked 1 (similarity score: 0.963633960838312)------------------------------\n",
      "article identifier: PMC8993037,  article number: 243 \n",
      "\n",
      "title:  Exogenous Strigolactone (GR24) Positively Regulates Growth, Photosynthesis, and Improves Glandular Trichome Attributes for Enhanced Artemisinin Production in Artemisia annua \n",
      "\n",
      "Authors: \n",
      "Wani, Kaiser Iqbal; Zehra, Andleeb; Choudhary, Sadaf; Naeem, M.; Khan, M. Masroor A.; Khan, Riyazuddeen; Aftab, Tariq \n",
      "\n",
      "snippet: \n",
      "\n",
      "Artemisia annua is a medicinal plant particularly known for the production of a sesquiterpene lactone artemisinin; a specialty metabolite known for its efficacy in the treatment of malaria by killing different strains of Plasmodium falciparum due to radicals released upon the cleavage of its endoperoxide motif. Considering these facts and the immense medicinal value of artemisinin, the enhancement of in planta production of artemisinin is highly desirable. As strigolactones are known to regulate various aspects of plant growth and development, the effects of foliar spray of different concentrations of synthetic strigolactone analog GR24 (0, 0.5, 1, 2, 4, and 8 µM) on A. annua were studied. As compared to the control group, the foliar application of GR24 had a positive impact on general growth, photosynthesis, and other physiological indices with 4 µM GR24 showing the best results. The results indicate that GR24 application increased the plant biomass and various attributes related to photosynthesis, like total chlorophyll content, chlorophyll fluorescence, stomatal conductance, internal CO(2,) and net photosynthetic rate. Moreover, the activity of various enzymes related to photosynthesis like carbonic anhydrase, nitrate reductase, and RuBisCO was escalated. The GR24 also improved certain attributes related to glandular trichomes, with a significant enhancement in content and yield of artemisinin as compared to untreated plants.\n",
      "\n",
      "\n",
      "------------------------------ Match Ranked 2 (similarity score: 0.5938352092631087)------------------------------\n",
      "article identifier: PMC7719730,  article number: 2223 \n",
      "\n",
      "title:  Mental health status during COVID-19 pandemic in Fars Province, Iran: timely measures \n",
      "\n",
      "Authors: \n",
      "Mani, Arash; Estedlal, Ali Reza; Kamali, Mahsa; Ghaemi, Seyede Zahra; Zarei, Leila; Shokrpour, Nasrin; Heydari, Seyed Taghi; Lankarani, Kamran Bagheri \n",
      "\n",
      "snippet: \n",
      "\n",
      "BACKGROUND: The current corona virus pandemic is acting as a stressor or trauma, which not only threats physical health status, but also threats mental health status and well-being of people. Currently, COVID-19 pandemic is a life-threatening unpredictable condition accompanied with a large number of uncertainties. The present study has mainly aimed to assess mental health and the relevant social factors during this pandemic in Fars province. METHODS: This cross-sectional study was performed on 922 participants in Fars province, Iran, using internet-based data collection technique. All the included participants filled out the General Health Questionnaire (GHQ-28). Moreover, demographic variables and some social factors were evaluated by asking some questions. All the participants were ensured of the confidentiality of the collected data, and willingly completed the questionnaire. RESULTS: Among the participants, there were 629 women (68.2%) and 293 men (31.2%). The mean age of the participants was 36.98 ± 11.08 years old. Four hundred twenty-five subjects (46.1%) obtained GHQ-28 scores above the cut-off point, and accordingly, they were suspected of having poor mental health statuses. Women, in comparison to men (OR = 2.034, 95%:1.62–3.28), and individuals aged < 50 years old, in comparison to those aged > 50 years old (OR: 4.01 95%:2.15–7.50), have poorer mental health statuses. Trusting on media, health authorities, and cooperation with policy makers, as well as having uncertainty on information about Coronavirus pandemic were also shown to be associated with poor mental health condition (P < 0.05). CONCLUSION: The present study revealed that the number of those people with suspected poor mental health in Fars province significantly increased compared to a previous study using the same questionnaire. Furthermore, the participants who had less trust in media and policymakers were more prone to mental health problems. Therefore, it can be concluded that supporting people in these life-threatening pandemic crises is of great importance, so the policy makers and media must present reliable and valid information to people as soon as possible.\n",
      "\n",
      "\n",
      "------------------------------ Match Ranked 3 (similarity score: 0.5867306697127662)------------------------------\n",
      "article identifier: PMC8838379,  article number: 1702 \n",
      "\n",
      "title:  Salinity and Salt-Priming Impact on Growth, Photosynthetic Performance, and Nutritional Quality of Edible Mesembryanthemum crystallinum L. \n",
      "\n",
      "Authors: \n",
      "He, Jie; Ng, Olivia Wei Jin; Qin, Lin \n",
      "\n",
      "snippet: \n",
      "\n",
      "Mesembryanthemum crystallinum L. is a nutritious edible facultative halophyte. This study aimed to investigate the physiology and quality of M. crystallinum L. grown under different salinities and salt-priming conditions. All plants were first grown in 10% artificial seawater (ASW) for 10 days. After that, some plants remained in 10% ASW while the others were transferred to 20%, 30%, 40%, or 50% ASW for another 10 days. Some plants also underwent a salt priming by transferring them gradually from 10% to 100% ASW over a span of 10 days (defined as salt primed). All plants were green and healthy. However, there were reductions in shoot and root productivity, leaf growth, and water content, but also an increase in leaf succulence after transferring plants to higher salinities. The salt-primed plants showed higher photosynthetic light use efficiency with higher chlorophyll concentration compared to other plants. The concentrations of proline, ascorbic acid (ASC), and total phenolic compounds (TPC) increased as percentages of ASW increased. The salt-primed plants switched from C(3) to crassulacean acid metabolism photosynthesis and accumulated the greatest amounts of proline, ASC, and TPC. In conclusion, higher salinities and salt priming enhance the nutritional quality of M. crystallinum L. but compromises productivity.\n",
      "***************************************************************************************************************\n",
      "Query 7: \n",
      " What is the biolayer interferometry immunosorbent assay (BLI-ISA) and how does it compare to other methods for quantifying antigen-specific antibodies in plasma, specifically for SARS-CoV-2 antibodies? \n",
      "\n",
      "------------------------------ Match Ranked 1 (similarity score: 0.9059282713937796)------------------------------\n",
      "article identifier: PMC7283038,  article number: 4255 \n",
      "\n",
      "title:  Blood Plasma Microfluidic Device: Aiming for the Detection of COVID-19 Antibodies Using an On-Chip ELISA Platform \n",
      "\n",
      "Authors: \n",
      "Tripathi, Siddhartha; Agrawal, Amit \n",
      "\n",
      "snippet: \n",
      "\n",
      "COVID-19 is a public health emergency of international concern. Detection of SARS-CoV-2 virus is an important step towards containing the virus spread. Although viral detection using molecular diagnostic methods is quite common and efficient, these methods are prone to errors, laborious and time consuming. There is an urgent need for blood-based tests which are simple to use, accurate, less time consuming, portable and cost-effective. Human blood plasma contains water, proteins, organic and in-organic substances including bacteria and viruses. Blood plasma can be effectively used to detect COVID-19 antibodies. The immune system generates antibodies (IgM/IgG proteins) in response to the virus and identification of these antibodies is related to the presence of the infection in the patient in the past. Therefore, detecting and testing the presence of these antibodies will be extremely useful for monitoring and surveillance of the population (Petherick, Lancet 395:1101–1102, 2020). Herein, we describe and propose a microfluidic ELISA (enzyme-linked immunosorbent assay) system to detect COVID-19 antibodies on a lab-on-chip platform. We propose to first separate plasma from whole human blood using a microfluidic device and subsequently perform the detection of antibodies in the separated plasma using a semi-automated on-chip ELISA.\n",
      "\n",
      "\n",
      "------------------------------ Match Ranked 2 (similarity score: 0.8285210839461996)------------------------------\n",
      "article identifier: PMC8468630,  article number: 5840 \n",
      "\n",
      "title:  Surface Plasmon Resonance-Based Immunosensor for Igm Detection with Gold Nanoparticles \n",
      "\n",
      "Authors: \n",
      "Bereli, Nilay; Bakhshpour, Monireh; Topçu, Aykut Arif; Denizli, Adil \n",
      "\n",
      "snippet: \n",
      "\n",
      "In this work, a surface plasmon resonance (SPR) based immunosensor was prepared by the immobilization of the amine-functionalized gold nanoparticles (N-AuNPs) on the sensing surface to sense immunoglobulin M (IgM) antibodies in the aqueous solution and artificial plasma. The characterization studies of SPR based immunosensor for IgM detection were performed with scanning electron microscope (SEM), contact angle measurements, and ellipsometry. Kinetic studies for the IgM immunosensor were carried out in the range of 1.0 to 200 ng/mL IgM concentrations in an aqueous solution. The total IgM analysis time including adsorption, desorption, and regeneration cycles was nearly 10 min for the prepared immunosensor. The limit of detection (LOD) and limit of quantification (LOQ) were found as 0.08 and 0.26 ng/mL, respectively. The reusability of the proposed immunosensor was tested with 6 consecutive adsorption-desorption, and regeneration cycles. Also, enzyme-linked immunosorbent assay (ELISA) method was utilized in the validation of the immunosensor.\n",
      "\n",
      "\n",
      "------------------------------ Match Ranked 3 (similarity score: 0.6807119772872654)------------------------------\n",
      "article identifier: PMC6260693,  article number: 7004 \n",
      "\n",
      "title:  Soluble immune checkpoints in cancer: production, function and biological significance \n",
      "\n",
      "Authors: \n",
      "Gu, Daqian; Ao, Xiang; Yang, Yu; Chen, Zhuo; Xu, Xiang \n",
      "\n",
      "snippet: \n",
      "\n",
      "Immune checkpoints play important roles in immune regulation, and blocking immune checkpoints on the cell membrane is a promising strategy in the treatment of cancer. Based on this, monoclonal antibodies are having much rapid development, such as those against CTLA-4 (cytotoxic T lymphocyte antigen 4) and PD-1 (programmed cell death protein 1).But the cost of preparation of monoclonal antibodies is too high and the therapeutic effect is still under restrictions. Recently, a series of soluble immune checkpoints have been found such as sCTLA-4 (soluble CTLA-4) and sPD-1 (soluble PD-1). They are functional parts of membrane immune checkpoints produced in different ways and can be secreted by immune cells. Moreover, these soluble checkpoints can diffuse in the serum. Much evidence has demonstrated that these soluble checkpoints are involved in positive or negative immune regulation and that changes in their plasma levels affect the development, prognosis and treatment of cancer. Since they are endogenous molecules, they will not induce immunological rejection in human beings, which might make up for the deficiencies of monoclonal antibodies and enhance the utility value of these molecules. Therefore, there is an increasing need for investigating novel soluble checkpoints and their functions, and it is promising to develop relevant therapies in the future. In this review, we describe the production mechanisms and functions of various soluble immune checkpoint receptors and ligands and discuss their biological significance in regard to biomarkers, potential candidate drugs, therapeutic targets, and other topics.\n",
      "***************************************************************************************************************\n",
      "Query 8: \n",
      " What is the potential for faecal-oral transmission of the SARS-CoV-2 virus, and what are the concerns regarding the transmission of the virus in the environment, particularly in recreational waters? \n",
      "\n",
      "------------------------------ Match Ranked 1 (similarity score: 0.6218099858511876)------------------------------\n",
      "article identifier: PMC7719730,  article number: 2223 \n",
      "\n",
      "title:  Mental health status during COVID-19 pandemic in Fars Province, Iran: timely measures \n",
      "\n",
      "Authors: \n",
      "Mani, Arash; Estedlal, Ali Reza; Kamali, Mahsa; Ghaemi, Seyede Zahra; Zarei, Leila; Shokrpour, Nasrin; Heydari, Seyed Taghi; Lankarani, Kamran Bagheri \n",
      "\n",
      "snippet: \n",
      "\n",
      "BACKGROUND: The current corona virus pandemic is acting as a stressor or trauma, which not only threats physical health status, but also threats mental health status and well-being of people. Currently, COVID-19 pandemic is a life-threatening unpredictable condition accompanied with a large number of uncertainties. The present study has mainly aimed to assess mental health and the relevant social factors during this pandemic in Fars province. METHODS: This cross-sectional study was performed on 922 participants in Fars province, Iran, using internet-based data collection technique. All the included participants filled out the General Health Questionnaire (GHQ-28). Moreover, demographic variables and some social factors were evaluated by asking some questions. All the participants were ensured of the confidentiality of the collected data, and willingly completed the questionnaire. RESULTS: Among the participants, there were 629 women (68.2%) and 293 men (31.2%). The mean age of the participants was 36.98 ± 11.08 years old. Four hundred twenty-five subjects (46.1%) obtained GHQ-28 scores above the cut-off point, and accordingly, they were suspected of having poor mental health statuses. Women, in comparison to men (OR = 2.034, 95%:1.62–3.28), and individuals aged < 50 years old, in comparison to those aged > 50 years old (OR: 4.01 95%:2.15–7.50), have poorer mental health statuses. Trusting on media, health authorities, and cooperation with policy makers, as well as having uncertainty on information about Coronavirus pandemic were also shown to be associated with poor mental health condition (P < 0.05). CONCLUSION: The present study revealed that the number of those people with suspected poor mental health in Fars province significantly increased compared to a previous study using the same questionnaire. Furthermore, the participants who had less trust in media and policymakers were more prone to mental health problems. Therefore, it can be concluded that supporting people in these life-threatening pandemic crises is of great importance, so the policy makers and media must present reliable and valid information to people as soon as possible.\n",
      "\n",
      "\n",
      "------------------------------ Match Ranked 2 (similarity score: 0.6191096946382562)------------------------------\n",
      "article identifier: PMC6631033,  article number: 2174 \n",
      "\n",
      "title:  Animal Virus Ecology and Evolution Are Shaped by the Virus Host-Body Infiltration and Colonization Pattern \n",
      "\n",
      "Authors: \n",
      "Slingenbergh, Jan \n",
      "\n",
      "snippet: \n",
      "\n",
      "The current classification of animal viruses is largely based on the virus molecular world. Less attention is given to why and how virus fitness results from the success of virus transmission. Virus transmission reflects the infection-shedding-transmission dynamics, and with it, the organ system involvement and other, macroscopic dimensions of the host environment. This study describes the transmission ecology of the world main livestock viruses, 36 in total, a mix of RNA, DNA and retroviruses. Following an iterative process, the viruses are virtually ranked in an outer- to inner-body fashion, by organ system, on ecological grounds. Also portrayed are the shifts in virus host tropism and virus genome. The synthesis of the findings reveals a predictive virus evolution framework, based on the outer- to inner-body changes in the interplay of host environment-transmission modes-organ system involvement-host cell infection cycle-virus genome. Outer-body viruses opportunistically respond to the variation in the external environment. For example, respiratory and enteric viruses tend to be associated with poultry and pig mass rearing. Ruminant and equine viruses tend to be more deep-rooted and host-specific, and also establish themselves in the vital inner-body systems. It is concluded that the framework may assist the study of new emerging viruses and pandemic risks.\n",
      "\n",
      "\n",
      "------------------------------ Match Ranked 3 (similarity score: 0.5171890087793727)------------------------------\n",
      "article identifier: PMC8144881,  article number: 3711 \n",
      "\n",
      "title:  Culture, politics and being more equal than others in COVID-19: some psychological anthropology perspectives \n",
      "\n",
      "Authors: \n",
      "Pillay, Indira \n",
      "\n",
      "snippet: \n",
      "\n",
      "The COVID-19 pandemic changed how we view the world, human behaviour, and societal structures and institutions. The emerging subdiscipline of psychological anthropology is well placed to provide a perspective on the way individuals and communities are affected by and respond to the pandemic, as well as the fallout from government responses and prevention strategies. Moreover, this viewpoint enables insights into the workings of societal structures and agents of power in the context of a health crisis that is worsened by poverty, inequality, and structural violence. How communities respond and adapt to the ‘new normal’ are critical to holding governing structures accountable in situations where poor leadership, mismanagement, and unethical behaviour have been evident.\n",
      "***************************************************************************************************************\n",
      "Query 9: \n",
      " What is the current understanding of the role of viruses in triggering multiple sclerosis? \n",
      "\n",
      "------------------------------ Match Ranked 1 (similarity score: 0.8553487328771764)------------------------------\n",
      "article identifier: PMC7944527,  article number: 3891 \n",
      "\n",
      "title:  Medical Histopathology Laboratories: Remote Teaching in Response to COVID-19 Pandemic \n",
      "\n",
      "Authors: \n",
      "Sharma, Ramaswamy; King, Thomas S.; Hanson, Elizabeth R.; Fiebelkorn, Kristin \n",
      "\n",
      "snippet: \n",
      "\n",
      "The COVID-19 pandemic required the rapid conversion of medical school curricula to virtual instruction. Prior to the crisis, histopathology teaching laboratories at UT Health San Antonio included completion of an Individual Laboratory Quiz before the laboratory session, a Team Application Exercise released and completed during the laboratory session with guidance from faculty, and a graded Team Laboratory Quiz at the end of the laboratory session. Adaptation of this interactive, in-person activity to a fully online platform included releasing the Team Application Exercise earlier to provide ample time for students to work virtually with their teams, conducting laboratory sessions using Microsoft Teams, with 5 to 6 teams led by a single instructor, and requiring the Team Laboratory Quiz to be taken individually for ensuring quiz security and test integrity. For incentivizing collaboration while completing the Team Application Exercise, the final score was either the student’s individual score on the Team Laboratory Quiz or their team’s average, whichever was higher. Comparison of student scores on the modified Team Laboratory Quiz to Team Laboratory Quiz scores using the earlier laboratory format prior to COVID-19 showed a significant decline; however, scores on other weekly quizzes or examinations were unaffected. Students welcomed the early release of Team Application Exercise and easier access to faculty but indicated that the modified Team Laboratory Quiz decreased peer-teaching and learning experience and increased anxiety. Faculty indicated the loss of personal interaction with students as a major theme. These data suggest that novel pedagogical approaches are required for online histopathology instruction to accommodate differences in learning styles while maintaining the benefits of team collaboration.\n",
      "\n",
      "\n",
      "------------------------------ Match Ranked 2 (similarity score: 0.6481464306487126)------------------------------\n",
      "article identifier: PMC7549809,  article number: 5924 \n",
      "\n",
      "title:  Full-length three-dimensional structure of the influenza A virus M1 protein and its organization into a matrix layer \n",
      "\n",
      "Authors: \n",
      "Selzer, Lisa; Su, Zhaoming; Pintilie, Grigore D.; Chiu, Wah; Kirkegaard, Karla \n",
      "\n",
      "snippet: \n",
      "\n",
      "Matrix proteins are encoded by many enveloped viruses, including influenza viruses, herpes viruses, and coronaviruses. Underneath the viral envelope of influenza virus, matrix protein 1 (M1) forms an oligomeric layer critical for particle stability and pH-dependent RNA genome release. However, high-resolution structures of full-length monomeric M1 and the matrix layer have not been available, impeding antiviral targeting and understanding of the pH-dependent transitions involved in cell entry. Here, purification and extensive mutagenesis revealed protein–protein interfaces required for the formation of multilayered helical M1 oligomers similar to those observed in virions exposed to the low pH of cell entry. However, single-layered helical oligomers with biochemical and ultrastructural similarity to those found in infectious virions before cell entry were observed upon mutation of a single amino acid. The highly ordered structure of the single-layered oligomers and their likeness to the matrix layer of intact virions prompted structural analysis by cryo-electron microscopy (cryo-EM). The resulting 3.4-Å–resolution structure revealed the molecular details of M1 folding and its organization within the single-shelled matrix. The solution of the full-length M1 structure, the identification of critical assembly interfaces, and the development of M1 assembly assays with purified proteins are crucial advances for antiviral targeting of influenza viruses.\n",
      "\n",
      "\n",
      "------------------------------ Match Ranked 3 (similarity score: 0.5919952114756233)------------------------------\n",
      "article identifier: PMC6631033,  article number: 2174 \n",
      "\n",
      "title:  Animal Virus Ecology and Evolution Are Shaped by the Virus Host-Body Infiltration and Colonization Pattern \n",
      "\n",
      "Authors: \n",
      "Slingenbergh, Jan \n",
      "\n",
      "snippet: \n",
      "\n",
      "The current classification of animal viruses is largely based on the virus molecular world. Less attention is given to why and how virus fitness results from the success of virus transmission. Virus transmission reflects the infection-shedding-transmission dynamics, and with it, the organ system involvement and other, macroscopic dimensions of the host environment. This study describes the transmission ecology of the world main livestock viruses, 36 in total, a mix of RNA, DNA and retroviruses. Following an iterative process, the viruses are virtually ranked in an outer- to inner-body fashion, by organ system, on ecological grounds. Also portrayed are the shifts in virus host tropism and virus genome. The synthesis of the findings reveals a predictive virus evolution framework, based on the outer- to inner-body changes in the interplay of host environment-transmission modes-organ system involvement-host cell infection cycle-virus genome. Outer-body viruses opportunistically respond to the variation in the external environment. For example, respiratory and enteric viruses tend to be associated with poultry and pig mass rearing. Ruminant and equine viruses tend to be more deep-rooted and host-specific, and also establish themselves in the vital inner-body systems. It is concluded that the framework may assist the study of new emerging viruses and pandemic risks.\n",
      "***************************************************************************************************************\n",
      "Query 10: \n",
      " What is the significance of pandemic literature in relation to Covid-19, and how does it provide important reminders about epidemiology, as well as the involvement of race, class, gender, and sexuality in the representation and movement of disease? \n",
      "\n",
      "------------------------------ Match Ranked 1 (similarity score: 0.6687658369669371)------------------------------\n",
      "article identifier: PMC7719730,  article number: 2223 \n",
      "\n",
      "title:  Mental health status during COVID-19 pandemic in Fars Province, Iran: timely measures \n",
      "\n",
      "Authors: \n",
      "Mani, Arash; Estedlal, Ali Reza; Kamali, Mahsa; Ghaemi, Seyede Zahra; Zarei, Leila; Shokrpour, Nasrin; Heydari, Seyed Taghi; Lankarani, Kamran Bagheri \n",
      "\n",
      "snippet: \n",
      "\n",
      "BACKGROUND: The current corona virus pandemic is acting as a stressor or trauma, which not only threats physical health status, but also threats mental health status and well-being of people. Currently, COVID-19 pandemic is a life-threatening unpredictable condition accompanied with a large number of uncertainties. The present study has mainly aimed to assess mental health and the relevant social factors during this pandemic in Fars province. METHODS: This cross-sectional study was performed on 922 participants in Fars province, Iran, using internet-based data collection technique. All the included participants filled out the General Health Questionnaire (GHQ-28). Moreover, demographic variables and some social factors were evaluated by asking some questions. All the participants were ensured of the confidentiality of the collected data, and willingly completed the questionnaire. RESULTS: Among the participants, there were 629 women (68.2%) and 293 men (31.2%). The mean age of the participants was 36.98 ± 11.08 years old. Four hundred twenty-five subjects (46.1%) obtained GHQ-28 scores above the cut-off point, and accordingly, they were suspected of having poor mental health statuses. Women, in comparison to men (OR = 2.034, 95%:1.62–3.28), and individuals aged < 50 years old, in comparison to those aged > 50 years old (OR: 4.01 95%:2.15–7.50), have poorer mental health statuses. Trusting on media, health authorities, and cooperation with policy makers, as well as having uncertainty on information about Coronavirus pandemic were also shown to be associated with poor mental health condition (P < 0.05). CONCLUSION: The present study revealed that the number of those people with suspected poor mental health in Fars province significantly increased compared to a previous study using the same questionnaire. Furthermore, the participants who had less trust in media and policymakers were more prone to mental health problems. Therefore, it can be concluded that supporting people in these life-threatening pandemic crises is of great importance, so the policy makers and media must present reliable and valid information to people as soon as possible.\n",
      "\n",
      "\n",
      "------------------------------ Match Ranked 2 (similarity score: 0.5630239868864488)------------------------------\n",
      "article identifier: PMC8990487,  article number: 1767 \n",
      "\n",
      "title:  Problematic Pornography Use in China \n",
      "\n",
      "Authors: \n",
      "Chen, Lijun \n",
      "\n",
      "snippet: \n",
      "\n",
      "PURPOSE OF REVIEW: China is a typical sexual conservative cultural context country; it is necessary to understand the problematic pornography use (PPU) in China, which may reflect the influence of the conservative culture on PPU. In this review, the pornography use motivation, prevalence, screening scales, diagnosing elements, and intervention situation in China were described. RECENT FINDINGS: The most preponderant pornography use motivations were self-exploration and seeking education. In line with the international situation in screening PPU, inconsistent assessment resulted in fluctuant prevalence in China. Fortunately, several screening scales were confirmed valid in Chinese sample. The symptoms of PPU among Chinese were similar with samples from other Western countries. More urgently, in China, it appeared there exists a supply–demand imbalance in regards to the prevalence of PPU and the limited treatment options available. SUMMARY: Due to the conservative attitude toward sex and pornography, research on pornography use in China is scarce. The Chinese pornography motivations differ from the Western more permissive countries, but the core symptoms of PPU among Chinese are similar with the other Western participants. Actually, in the Chinese public, the prevalence of PPU is high; however, the demand for professional psychotherapy services exceeds the current available resources.\n",
      "\n",
      "\n",
      "------------------------------ Match Ranked 3 (similarity score: 0.5318287269125598)------------------------------\n",
      "article identifier: PMC8144881,  article number: 3711 \n",
      "\n",
      "title:  Culture, politics and being more equal than others in COVID-19: some psychological anthropology perspectives \n",
      "\n",
      "Authors: \n",
      "Pillay, Indira \n",
      "\n",
      "snippet: \n",
      "\n",
      "The COVID-19 pandemic changed how we view the world, human behaviour, and societal structures and institutions. The emerging subdiscipline of psychological anthropology is well placed to provide a perspective on the way individuals and communities are affected by and respond to the pandemic, as well as the fallout from government responses and prevention strategies. Moreover, this viewpoint enables insights into the workings of societal structures and agents of power in the context of a health crisis that is worsened by poverty, inequality, and structural violence. How communities respond and adapt to the ‘new normal’ are critical to holding governing structures accountable in situations where poor leadership, mismanagement, and unethical behaviour have been evident.\n",
      "***************************************************************************************************************\n"
     ]
    }
   ],
   "source": [
    "for i,query in enumerate(queries):\n",
    "    print(f'Query {i+1}: \\n {query} \\n')\n",
    "    IR.retrive(query)\n",
    "    print('***************************************************************************************************************')"
   ],
   "metadata": {
    "collapsed": false
   }
  },
  {
   "cell_type": "markdown",
   "source": [
    "- The MRR of the 10 retrievals above is 0.344, this means the expected relevant document appears around 2nd position and the 3rd position, which is not bad.\n",
    "- Furthermore, the MRR of my IR system in real-life cases probably is better than 0.344, because there is a limitation in this testing setup. That is we assumed that there is only one ground truth relevant documents, but in real cases there could be multiple relevant documents. Therefore, this MRR of 0.344 can be seen as a 'lower bound' of the performance.\n",
    "- Another limitation of this is ChatGPT generated the query only based on the abstract not the entire document. Because there's a word limit in the prompt, I could not put the entire document in. <br>\n",
    " In general, this 0.344 MRR is not bad.\n",
    "\n"
   ],
   "metadata": {
    "collapsed": false
   }
  },
  {
   "cell_type": "markdown",
   "id": "ba7ea3a2",
   "metadata": {},
   "source": [
    "### 6. Simple user interface"
   ]
  },
  {
   "cell_type": "code",
   "execution_count": 25,
   "id": "99cf2087",
   "metadata": {},
   "outputs": [
    {
     "name": "stdout",
     "output_type": "stream",
     "text": [
      "Session 1:\n",
      " \n",
      " Your query: \n",
      "\n",
      "what is the best covid vaccine \n",
      "\n",
      "------------------------------ Match Ranked 1 (similarity score: 0.9389548472933613)------------------------------\n",
      "article identifier: PMC8830773,  article number: 1249 \n",
      "\n",
      "title:  Viral Vaccines \n",
      "\n",
      "Authors: \n",
      "Schleiss, M.R. \n",
      "\n",
      "snippet: \n",
      "\n",
      "Since antiquity, humans have strived to find ways to prevent the suffering and mortality caused by infectious pathogens. No interventions in medical history have had a bigger impact on human health than the development of preventative vaccines against infectious diseases. Viruses represent important pathogens responsible for epidemics and, in the case of influenza and SARS-CoV-2, global pandemics responsible for substantial - and sometimes staggering - morbidity and mortality. This article reviews the viral vaccines used today in clinical practice, summarizes the differences in vaccine design and manufacturing, and identifies priorities for future research and development of new viral vaccines.\n",
      "\n",
      "\n",
      "------------------------------ Match Ranked 2 (similarity score: 0.9280143525589084)------------------------------\n",
      "article identifier: PMC7596387,  article number: 899 \n",
      "\n",
      "title:  Potential Cross-Reactive Immunity to SARS-CoV-2 From Common Human Pathogens and Vaccines \n",
      "\n",
      "Authors: \n",
      "Reche, Pedro A. \n",
      "\n",
      "snippet: \n",
      "\n",
      "The recently emerged SARS-CoV-2 causing the ongoing COVID-19 pandemic is particularly virulent in the elderly while children are largely spared. Here, we explored the potential role of cross-reactive immunity acquired from pediatric vaccinations and exposure to common human pathogens in the protection and pathology of COVID-19. To that end, we sought for peptide matches to SARS-CoV-2 (identity ≥ 80%, in at least eight residues) in the proteomes of 25 human pathogens and in vaccine antigens, and subsequently predicted their T and B cell reactivity to identify potential cross-reactive epitopes. We found that viruses subject to pediatric vaccinations do not contain cross-reactive epitopes with SARS-CoV-2, precluding that they can provide any general protection against COVID-19. Likewise, common viruses including rhinovirus, respiratory syncytial virus, influenza virus, and several herpesviruses are also poor or null sources of cross-reactive immunity to SARS-CoV-2, discarding that immunological memory against these viruses can have any general protective or pathological role in COVID-19. In contrast, we found combination vaccines for treating diphtheria, tetanus, and pertussis infectious diseases (DTP vaccine) to be significant sources of potential cross-reactive immunity to SARS-CoV-2. DTP cross-reactive epitopes with SARS-CoV-2 include numerous CD8 and CD4 T cell epitopes with broad population protection coverage and potentially neutralizing B cell epitopes in SARS-CoV-2 Spike protein. Worldwide, children receive several DTP vaccinations, including three-four doses the first year of life and one at 4–6 years of age. Moreover, a low antigenic Tdap dose is also given at ages 9–14. Thereby, children may well be protected from SARS-CoV-2 through cross-reactive immunity elicited by DTP vaccinations, supporting testing in the general population to prevent COVID-19.\n",
      "\n",
      "\n",
      "------------------------------ Match Ranked 3 (similarity score: 0.8976963749096589)------------------------------\n",
      "article identifier: PMC7447584,  article number: 3559 \n",
      "\n",
      "title:  A comprehensive review of vaccination in patients with inflammatory bowel diseases:  An Indian perspective \n",
      "\n",
      "Authors: \n",
      "Shah, Bhavik Bharat; Goenka, Mahesh Kumar \n",
      "\n",
      "snippet: \n",
      "\n",
      "The disease burden of inflammatory bowel diseases (IBD) in India is estimated to be one of the highest in the world in the near future. Patients with IBD, particularly those on immunosuppressive therapy, are at increased risk for developing vaccine-preventable illnesses. Adult vaccination policy and vaccination in patients with IBD are presently being at a very low level in India. This review discusses in detail the need for vaccination, levels of immunosuppression, a brief account of live and inactivated vaccines, available vaccines, and their utility in patients with IBD, with a special focus on recent recommendations.\n",
      "************************************************************************************************************************************************\n",
      "Session 2:\n",
      " \n",
      " Your query: \n",
      "\n",
      "how to stop conoravirus from spreading from an epidemiology perspective \n",
      "\n",
      "------------------------------ Match Ranked 1 (similarity score: 0.8950376249652104)------------------------------\n",
      "article identifier: PMC2080649,  article number: 5415 \n",
      "\n",
      "title:  Sharing H5N1 Viruses to Stop a Global Influenza Pandemic \n",
      "\n",
      "Authors: \n",
      "Garrett, Laurie; Fidler, David P \n",
      "\n",
      "snippet: \n",
      "\n",
      "Indonesia's refusal to share samples of H5N1 virus with World Health Organization for most of 2007 is distressing and potentially dangerous for global public health, argue the authors.\n",
      "\n",
      "\n",
      "------------------------------ Match Ranked 2 (similarity score: 0.8410279479414866)------------------------------\n",
      "article identifier: PMC1616946,  article number: 5410 \n",
      "\n",
      "title:  Antisense-induced ribosomal frameshifting \n",
      "\n",
      "Authors: \n",
      "Henderson, Clark M.; Anderson, Christine B.; Howard, Michael T. \n",
      "\n",
      "snippet: \n",
      "\n",
      "Programmed ribosomal frameshifting provides a mechanism to decode information located in two overlapping reading frames by diverting a proportion of translating ribosomes into a second open reading frame (ORF). The result is the production of two proteins: the product of standard translation from ORF1 and an ORF1–ORF2 fusion protein. Such programmed frameshifting is commonly utilized as a gene expression mechanism in viruses that infect eukaryotic cells and in a subset of cellular genes. RNA secondary structures, consisting of pseudoknots or stem–loops, located downstream of the shift site often act as cis-stimulators of frameshifting. Here, we demonstrate for the first time that antisense oligonucleotides can functionally mimic these RNA structures to induce +1 ribosomal frameshifting when annealed downstream of the frameshift site, UCC UGA. Antisense-induced shifting of the ribosome into the +1 reading frame is highly efficient in both rabbit reticulocyte lysate translation reactions and in cultured mammalian cells. The efficiency of antisense-induced frameshifting at this site is responsive to the sequence context 5′ of the shift site and to polyamine levels.\n",
      "\n",
      "\n",
      "------------------------------ Match Ranked 3 (similarity score: 0.7678896517602536)------------------------------\n",
      "article identifier: PMC7534596,  article number: 146 \n",
      "\n",
      "title:  Down the drain: Reconsidering routine urine drug testing during the COVID-19 pandemic☆ \n",
      "\n",
      "Authors: \n",
      "Pytell, Jarratt D.; Rastegar, Darius A. \n",
      "\n",
      "snippet: \n",
      "\n",
      "The COVID-19 pandemic and the move to telemedicine for office-based opioid treatment have made the practice of routine urine drug tests (UDT) obsolete. In this commentary we discuss how COVID-19 has demonstrated the limited usefulness and possible harms of routine UDT. We propose that practitioners should stop using routine UDT and instead use targeted UDT, paired with clinical reasoning, as part of a patient-centered approach to care.\n",
      "************************************************************************************************************************************************\n",
      "Session 3:\n",
      " \n",
      " Your query: \n",
      "\n",
      "how many people died due to covid \n",
      "\n",
      "------------------------------ Match Ranked 1 (similarity score: 0.8211039770042379)------------------------------\n",
      "article identifier: PMC8260001,  article number: 8431 \n",
      "\n",
      "title:  Comorbidities, sequelae, blood biomarkers and their associated clinical outcomes in the Mount Sinai Health System COVID-19 patients \n",
      "\n",
      "Authors: \n",
      "Brojakowska, Agnieszka; Eskandari, Abrisham; Bisserier, Malik; Bander, Jeffrey; Garikipati, Venkata Naga Srikanth; Hadri, Lahouaria; Goukassian, David A.; Fish, Kenneth M. \n",
      "\n",
      "snippet: \n",
      "\n",
      "With the continuing rise of SARS-CoV2 infection globally and the emergence of various waves in different countries, understanding characteristics of susceptibility to infection, clinical severity, and outcomes remain vital. In this retrospective study, data was extracted for 39,539 patients from the de-identified Mount Sinai Health System COVID-19 database. We assessed the risk of mortality based on the presence of comorbidities and organ-specific sequelae in 7,032 CoV2 positive (+) patients. Prevalence of cardiovascular and metabolic comorbidities was high among SARS-CoV2+ individuals. Diabetes, obesity, coronary artery disease, hypertension, atrial fibrillation, and heart failure all increased overall mortality risk, while asthma did not. Ethnicity modified the risk of mortality associated with these comorbidities. With regards to secondary complications in the setting of infection, individuals with acute kidney injury and acute myocardial injury showed an increase in mortality risk. Cerebral infarcts and acute venous thromboembolic events were not associated with increased risk of mortality. Biomarkers for cardiovascular injury, coagulation, and inflammation were compared between deceased and survived individuals. We found that cardiac and coagulation biomarkers were elevated and fell beyond normal range more often in deceased patients. Several, but not all, inflammatory markers evaluated were increased in deceased patients. In summary, we identified comorbidities and sequelae along with peripheral blood biomarkers that were associated with elevated clinical severity and poor outcomes in COVID-19 patients. Overall, these findings detail the granularity of previously reported factors which may impact susceptibility, clinical severity, and mortality during the course of COVID-19 disease.\n",
      "\n",
      "\n",
      "------------------------------ Match Ranked 2 (similarity score: 0.792771834364201)------------------------------\n",
      "article identifier: PMC8475424,  article number: 2022 \n",
      "\n",
      "title:  An analysis of the impact of policies and political affiliation on racial disparities in COVID-19 infections and deaths in the USA \n",
      "\n",
      "Authors: \n",
      "Hamilton, Michael A.; Hamilton, Danielle; Soneye, Oluwatamilore; Ayeyemi, Olorunshola; Jaradat, Raed \n",
      "\n",
      "snippet: \n",
      "\n",
      "This research aimed to quantify the racial disparities of COVID-19 for primarily positive tests and deaths across the US and territories individually and collectively. The first research hypothesis investigated whether positive cases and death rates were higher for people of color (POC) than the White ethnic group. The second hypothesis examined whether there is a significant difference in confirmed positive cases and death rates between ethnic groups across the US and territories. The third hypothesis investigated if political party control and governmental policies affected the number of cases and death proportion rates across ethnic groups. The research findings suggest that POC positive cases and death rates were higher in some states. Black ethnic groups were dying at a high rate in the southeastern states, the District of Columbia, and in Maryland. Specifically, in the District of Columbia, the death rate is five times higher than the White ethnic group. For Latinx ethnic groups, the high cases and death rates have mostly occurred in western states, including Texas. The Latinx ethnic group accounted for half the total deaths in Texas and California. The Latinx ethnic group death rate is higher than the White ethnic group in four states: Texas, California, New Mexico, and the District of Columbia. The research findings also show that the rate of deaths and cases per ethnic group for policies and political factors were significant except for the mask mandate policy. Based on the analyzed data, mask mandates were not a factor in the cases or death rates of any ethnic group. Each state’s policies for bars, curfews, public schools, and travel—along with legislative party control—had the most influences across ethnic groups. The research results for the death rates and number of cases due to these implemented policies varied between ethnic groups.\n",
      "\n",
      "\n",
      "------------------------------ Match Ranked 3 (similarity score: 0.7916102295142449)------------------------------\n",
      "article identifier: PMC9014348,  article number: 5570 \n",
      "\n",
      "title:  The Impact of Death and Dying Education for Undergraduate Students\n",
      "During the COVID-19 Pandemic \n",
      "\n",
      "Authors: \n",
      "Weisskirch, Robert S.; Crossman, Kimberly A. \n",
      "\n",
      "snippet: \n",
      "\n",
      "Fear of COVID-19 may make the imminence of death prescient for undergraduate students, increasing death anxiety and worsening mental health. Formal death education may provide benefits such as reduced fear of COVID-19 and death anxiety, and improved mental health. In this study, 86 undergraduate students completed a pre- and post-semester online questionnaire on fear of COVID-19, death anxiety, and mental health outcomes. Findings indicate indirect effects of death anxiety on fear of COVID-19 to anxiety. Moreover, fear of COVID-19, individual concerns about death, and death anxiety were reduced over the semester for undergraduate students in formal death education.\n",
      "************************************************************************************************************************************************\n"
     ]
    }
   ],
   "source": [
    "CONTINUE = True\n",
    "IR = Retriever_glove(inverted_index,glove_dict,KB,processed_df)\n",
    "\n",
    "session = 0\n",
    "while CONTINUE == True:\n",
    "    session += 1\n",
    "    print(f'Session {session}:')\n",
    "    query = input(\"Please enter your query: \\n\")\n",
    "    print(' \\n Your query: \\n')\n",
    "    print(query,'\\n')\n",
    "    IR.retrive(query)\n",
    "    print('************************************************************************************************************************************************')\n",
    "    c = input(\"Continue search? [y/n]: \\n\")\n",
    "    if c == 'n':\n",
    "        CONTINUE = False"
   ]
  },
  {
   "cell_type": "markdown",
   "id": "9d3a91b4",
   "metadata": {},
   "source": [
    "### 7. References"
   ]
  },
  {
   "cell_type": "markdown",
   "source": [
    "1. SciSpacy GitHub Page:  https://github.com/allenai/scispacy\n",
    "2. Workshop 6 material: Workshop_6_solution.ipynb\n",
    "3. GloVe word embedding download:  https://nlp.stanford.edu/projects/glove/\n",
    "4. cui2vec UMLS concept embedding:  https://github.com/beamandrew/cui2vec\n",
    "5. BioWordVec word embedding:  https://github.com/ncbi-nlp/BioWordVec\n",
    "6. ChatGPT (for test query generation only):  https://openai.com/blog/chatgpt"
   ],
   "metadata": {
    "collapsed": false
   }
  }
 ],
 "metadata": {
  "kernelspec": {
   "name": "jointbert",
   "language": "python",
   "display_name": "jointbert"
  },
  "language_info": {
   "codemirror_mode": {
    "name": "ipython",
    "version": 3
   },
   "file_extension": ".py",
   "mimetype": "text/x-python",
   "name": "python",
   "nbconvert_exporter": "python",
   "pygments_lexer": "ipython3",
   "version": "3.9.12"
  }
 },
 "nbformat": 4,
 "nbformat_minor": 5
}
